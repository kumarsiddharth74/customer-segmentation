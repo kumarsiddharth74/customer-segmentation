{
  "nbformat": 4,
  "nbformat_minor": 0,
  "metadata": {
    "colab": {
      "name": "customer_segmentation.ipynb",
      "provenance": []
    },
    "kernelspec": {
      "name": "python3",
      "display_name": "Python 3"
    },
    "language_info": {
      "name": "python"
    }
  },
  "cells": [
    {
      "cell_type": "code",
      "metadata": {
        "colab": {
          "base_uri": "https://localhost:8080/"
        },
        "id": "XJ-wD7iAaRXs",
        "outputId": "51462042-7f13-4504-e7ac-682bfe063fa7"
      },
      "source": [
        "pip install chart_studio"
      ],
      "execution_count": 1,
      "outputs": [
        {
          "output_type": "stream",
          "name": "stdout",
          "text": [
            "Collecting chart_studio\n",
            "  Downloading chart_studio-1.1.0-py3-none-any.whl (64 kB)\n",
            "\u001b[?25l\r\u001b[K     |█████                           | 10 kB 27.9 MB/s eta 0:00:01\r\u001b[K     |██████████▏                     | 20 kB 36.8 MB/s eta 0:00:01\r\u001b[K     |███████████████▎                | 30 kB 43.5 MB/s eta 0:00:01\r\u001b[K     |████████████████████▍           | 40 kB 28.8 MB/s eta 0:00:01\r\u001b[K     |█████████████████████████▍      | 51 kB 16.3 MB/s eta 0:00:01\r\u001b[K     |██████████████████████████████▌ | 61 kB 14.5 MB/s eta 0:00:01\r\u001b[K     |████████████████████████████████| 64 kB 2.2 MB/s \n",
            "\u001b[?25hRequirement already satisfied: requests in /usr/local/lib/python3.7/dist-packages (from chart_studio) (2.23.0)\n",
            "Requirement already satisfied: plotly in /usr/local/lib/python3.7/dist-packages (from chart_studio) (4.4.1)\n",
            "Requirement already satisfied: six in /usr/local/lib/python3.7/dist-packages (from chart_studio) (1.15.0)\n",
            "Requirement already satisfied: retrying>=1.3.3 in /usr/local/lib/python3.7/dist-packages (from chart_studio) (1.3.3)\n",
            "Requirement already satisfied: urllib3!=1.25.0,!=1.25.1,<1.26,>=1.21.1 in /usr/local/lib/python3.7/dist-packages (from requests->chart_studio) (1.24.3)\n",
            "Requirement already satisfied: chardet<4,>=3.0.2 in /usr/local/lib/python3.7/dist-packages (from requests->chart_studio) (3.0.4)\n",
            "Requirement already satisfied: certifi>=2017.4.17 in /usr/local/lib/python3.7/dist-packages (from requests->chart_studio) (2021.5.30)\n",
            "Requirement already satisfied: idna<3,>=2.5 in /usr/local/lib/python3.7/dist-packages (from requests->chart_studio) (2.10)\n",
            "Installing collected packages: chart-studio\n",
            "Successfully installed chart-studio-1.1.0\n"
          ]
        }
      ]
    },
    {
      "cell_type": "code",
      "metadata": {
        "id": "5kERvFCESnLu"
      },
      "source": [
        "import pandas as pd\n",
        "import numpy as np\n",
        "from datetime import datetime, timedelta\n",
        "\n",
        "import matplotlib.pyplot as plt\n",
        "import seaborn as sns\n",
        "from __future__ import division\n",
        "\n",
        "import chart_studio.plotly as py\n",
        "import plotly.offline as pyoff\n",
        "import plotly.graph_objs as go\n",
        "from sklearn.cluster import KMeans\n"
      ],
      "execution_count": 2,
      "outputs": []
    },
    {
      "cell_type": "markdown",
      "metadata": {
        "id": "ds93Kr-O7ei_"
      },
      "source": [
        "**mounting drive to collab notebook**"
      ]
    },
    {
      "cell_type": "code",
      "metadata": {
        "colab": {
          "base_uri": "https://localhost:8080/"
        },
        "id": "Fy0DS9hQ4Jgx",
        "outputId": "4cf5c09a-0339-41b5-e848-561d05f61fe7"
      },
      "source": [
        "%cd ..\n",
        "from google.colab import drive\n",
        "drive.mount('/content/gdrive')"
      ],
      "execution_count": 3,
      "outputs": [
        {
          "output_type": "stream",
          "name": "stdout",
          "text": [
            "/\n",
            "Mounted at /content/gdrive\n"
          ]
        }
      ]
    },
    {
      "cell_type": "code",
      "metadata": {
        "colab": {
          "base_uri": "https://localhost:8080/"
        },
        "id": "YnG2LVUV4gMa",
        "outputId": "236e7370-34c0-476a-f804-32e530aaf7ce"
      },
      "source": [
        "%cd /content/"
      ],
      "execution_count": 6,
      "outputs": [
        {
          "output_type": "stream",
          "name": "stdout",
          "text": [
            "/content\n"
          ]
        }
      ]
    },
    {
      "cell_type": "code",
      "metadata": {
        "colab": {
          "base_uri": "https://localhost:8080/"
        },
        "id": "Nqkf-eDX4j7J",
        "outputId": "75ddf6e1-e4b6-4da3-a51e-0af7b716773d"
      },
      "source": [
        "%cd \"/content/gdrive/MyDrive/Colab\"\n"
      ],
      "execution_count": 7,
      "outputs": [
        {
          "output_type": "stream",
          "name": "stdout",
          "text": [
            "/content/gdrive/MyDrive/Colab\n"
          ]
        }
      ]
    },
    {
      "cell_type": "code",
      "metadata": {
        "colab": {
          "base_uri": "https://localhost:8080/"
        },
        "id": "y2tYdviY7VD2",
        "outputId": "529f596c-f68e-4b00-a2ff-cc9165523d79"
      },
      "source": [
        "!ls"
      ],
      "execution_count": 8,
      "outputs": [
        {
          "output_type": "stream",
          "name": "stdout",
          "text": [
            "customer_segmentation.ipynb  data.csv\n"
          ]
        }
      ]
    },
    {
      "cell_type": "markdown",
      "metadata": {
        "id": "M9qXog2p7mYM"
      },
      "source": [
        "**reading data.csv file**"
      ]
    },
    {
      "cell_type": "code",
      "metadata": {
        "colab": {
          "base_uri": "https://localhost:8080/",
          "height": 419
        },
        "id": "QgIqFA1KQBYg",
        "outputId": "2e4f416d-b88d-4d69-e493-99367f29306e"
      },
      "source": [
        "df1=pd.read_csv('data.csv',encoding='ISO-8859-1')\n",
        "df1"
      ],
      "execution_count": 104,
      "outputs": [
        {
          "output_type": "execute_result",
          "data": {
            "text/html": [
              "<div>\n",
              "<style scoped>\n",
              "    .dataframe tbody tr th:only-of-type {\n",
              "        vertical-align: middle;\n",
              "    }\n",
              "\n",
              "    .dataframe tbody tr th {\n",
              "        vertical-align: top;\n",
              "    }\n",
              "\n",
              "    .dataframe thead th {\n",
              "        text-align: right;\n",
              "    }\n",
              "</style>\n",
              "<table border=\"1\" class=\"dataframe\">\n",
              "  <thead>\n",
              "    <tr style=\"text-align: right;\">\n",
              "      <th></th>\n",
              "      <th>InvoiceNo</th>\n",
              "      <th>StockCode</th>\n",
              "      <th>Description</th>\n",
              "      <th>Quantity</th>\n",
              "      <th>InvoiceDate</th>\n",
              "      <th>UnitPrice</th>\n",
              "      <th>CustomerID</th>\n",
              "      <th>Country</th>\n",
              "    </tr>\n",
              "  </thead>\n",
              "  <tbody>\n",
              "    <tr>\n",
              "      <th>0</th>\n",
              "      <td>536365</td>\n",
              "      <td>85123A</td>\n",
              "      <td>WHITE HANGING HEART T-LIGHT HOLDER</td>\n",
              "      <td>6</td>\n",
              "      <td>12/1/2010 8:26</td>\n",
              "      <td>2.55</td>\n",
              "      <td>17850.0</td>\n",
              "      <td>United Kingdom</td>\n",
              "    </tr>\n",
              "    <tr>\n",
              "      <th>1</th>\n",
              "      <td>536365</td>\n",
              "      <td>71053</td>\n",
              "      <td>WHITE METAL LANTERN</td>\n",
              "      <td>6</td>\n",
              "      <td>12/1/2010 8:26</td>\n",
              "      <td>3.39</td>\n",
              "      <td>17850.0</td>\n",
              "      <td>United Kingdom</td>\n",
              "    </tr>\n",
              "    <tr>\n",
              "      <th>2</th>\n",
              "      <td>536365</td>\n",
              "      <td>84406B</td>\n",
              "      <td>CREAM CUPID HEARTS COAT HANGER</td>\n",
              "      <td>8</td>\n",
              "      <td>12/1/2010 8:26</td>\n",
              "      <td>2.75</td>\n",
              "      <td>17850.0</td>\n",
              "      <td>United Kingdom</td>\n",
              "    </tr>\n",
              "    <tr>\n",
              "      <th>3</th>\n",
              "      <td>536365</td>\n",
              "      <td>84029G</td>\n",
              "      <td>KNITTED UNION FLAG HOT WATER BOTTLE</td>\n",
              "      <td>6</td>\n",
              "      <td>12/1/2010 8:26</td>\n",
              "      <td>3.39</td>\n",
              "      <td>17850.0</td>\n",
              "      <td>United Kingdom</td>\n",
              "    </tr>\n",
              "    <tr>\n",
              "      <th>4</th>\n",
              "      <td>536365</td>\n",
              "      <td>84029E</td>\n",
              "      <td>RED WOOLLY HOTTIE WHITE HEART.</td>\n",
              "      <td>6</td>\n",
              "      <td>12/1/2010 8:26</td>\n",
              "      <td>3.39</td>\n",
              "      <td>17850.0</td>\n",
              "      <td>United Kingdom</td>\n",
              "    </tr>\n",
              "    <tr>\n",
              "      <th>...</th>\n",
              "      <td>...</td>\n",
              "      <td>...</td>\n",
              "      <td>...</td>\n",
              "      <td>...</td>\n",
              "      <td>...</td>\n",
              "      <td>...</td>\n",
              "      <td>...</td>\n",
              "      <td>...</td>\n",
              "    </tr>\n",
              "    <tr>\n",
              "      <th>541904</th>\n",
              "      <td>581587</td>\n",
              "      <td>22613</td>\n",
              "      <td>PACK OF 20 SPACEBOY NAPKINS</td>\n",
              "      <td>12</td>\n",
              "      <td>12/9/2011 12:50</td>\n",
              "      <td>0.85</td>\n",
              "      <td>12680.0</td>\n",
              "      <td>France</td>\n",
              "    </tr>\n",
              "    <tr>\n",
              "      <th>541905</th>\n",
              "      <td>581587</td>\n",
              "      <td>22899</td>\n",
              "      <td>CHILDREN'S APRON DOLLY GIRL</td>\n",
              "      <td>6</td>\n",
              "      <td>12/9/2011 12:50</td>\n",
              "      <td>2.10</td>\n",
              "      <td>12680.0</td>\n",
              "      <td>France</td>\n",
              "    </tr>\n",
              "    <tr>\n",
              "      <th>541906</th>\n",
              "      <td>581587</td>\n",
              "      <td>23254</td>\n",
              "      <td>CHILDRENS CUTLERY DOLLY GIRL</td>\n",
              "      <td>4</td>\n",
              "      <td>12/9/2011 12:50</td>\n",
              "      <td>4.15</td>\n",
              "      <td>12680.0</td>\n",
              "      <td>France</td>\n",
              "    </tr>\n",
              "    <tr>\n",
              "      <th>541907</th>\n",
              "      <td>581587</td>\n",
              "      <td>23255</td>\n",
              "      <td>CHILDRENS CUTLERY CIRCUS PARADE</td>\n",
              "      <td>4</td>\n",
              "      <td>12/9/2011 12:50</td>\n",
              "      <td>4.15</td>\n",
              "      <td>12680.0</td>\n",
              "      <td>France</td>\n",
              "    </tr>\n",
              "    <tr>\n",
              "      <th>541908</th>\n",
              "      <td>581587</td>\n",
              "      <td>22138</td>\n",
              "      <td>BAKING SET 9 PIECE RETROSPOT</td>\n",
              "      <td>3</td>\n",
              "      <td>12/9/2011 12:50</td>\n",
              "      <td>4.95</td>\n",
              "      <td>12680.0</td>\n",
              "      <td>France</td>\n",
              "    </tr>\n",
              "  </tbody>\n",
              "</table>\n",
              "<p>541909 rows × 8 columns</p>\n",
              "</div>"
            ],
            "text/plain": [
              "       InvoiceNo StockCode  ... CustomerID         Country\n",
              "0         536365    85123A  ...    17850.0  United Kingdom\n",
              "1         536365     71053  ...    17850.0  United Kingdom\n",
              "2         536365    84406B  ...    17850.0  United Kingdom\n",
              "3         536365    84029G  ...    17850.0  United Kingdom\n",
              "4         536365    84029E  ...    17850.0  United Kingdom\n",
              "...          ...       ...  ...        ...             ...\n",
              "541904    581587     22613  ...    12680.0          France\n",
              "541905    581587     22899  ...    12680.0          France\n",
              "541906    581587     23254  ...    12680.0          France\n",
              "541907    581587     23255  ...    12680.0          France\n",
              "541908    581587     22138  ...    12680.0          France\n",
              "\n",
              "[541909 rows x 8 columns]"
            ]
          },
          "metadata": {},
          "execution_count": 104
        }
      ]
    },
    {
      "cell_type": "markdown",
      "metadata": {
        "id": "YGYqD9w7VVMt"
      },
      "source": [
        "**dropping columns that are not required**"
      ]
    },
    {
      "cell_type": "code",
      "metadata": {
        "colab": {
          "base_uri": "https://localhost:8080/",
          "height": 419
        },
        "id": "FHykXA07St2T",
        "outputId": "eacb6515-9a8f-4112-d7f1-7f084b0e84d6"
      },
      "source": [
        "df1.drop(['InvoiceNo','StockCode','Description'],axis=1,inplace=True)\n",
        "df1"
      ],
      "execution_count": 105,
      "outputs": [
        {
          "output_type": "execute_result",
          "data": {
            "text/html": [
              "<div>\n",
              "<style scoped>\n",
              "    .dataframe tbody tr th:only-of-type {\n",
              "        vertical-align: middle;\n",
              "    }\n",
              "\n",
              "    .dataframe tbody tr th {\n",
              "        vertical-align: top;\n",
              "    }\n",
              "\n",
              "    .dataframe thead th {\n",
              "        text-align: right;\n",
              "    }\n",
              "</style>\n",
              "<table border=\"1\" class=\"dataframe\">\n",
              "  <thead>\n",
              "    <tr style=\"text-align: right;\">\n",
              "      <th></th>\n",
              "      <th>Quantity</th>\n",
              "      <th>InvoiceDate</th>\n",
              "      <th>UnitPrice</th>\n",
              "      <th>CustomerID</th>\n",
              "      <th>Country</th>\n",
              "    </tr>\n",
              "  </thead>\n",
              "  <tbody>\n",
              "    <tr>\n",
              "      <th>0</th>\n",
              "      <td>6</td>\n",
              "      <td>12/1/2010 8:26</td>\n",
              "      <td>2.55</td>\n",
              "      <td>17850.0</td>\n",
              "      <td>United Kingdom</td>\n",
              "    </tr>\n",
              "    <tr>\n",
              "      <th>1</th>\n",
              "      <td>6</td>\n",
              "      <td>12/1/2010 8:26</td>\n",
              "      <td>3.39</td>\n",
              "      <td>17850.0</td>\n",
              "      <td>United Kingdom</td>\n",
              "    </tr>\n",
              "    <tr>\n",
              "      <th>2</th>\n",
              "      <td>8</td>\n",
              "      <td>12/1/2010 8:26</td>\n",
              "      <td>2.75</td>\n",
              "      <td>17850.0</td>\n",
              "      <td>United Kingdom</td>\n",
              "    </tr>\n",
              "    <tr>\n",
              "      <th>3</th>\n",
              "      <td>6</td>\n",
              "      <td>12/1/2010 8:26</td>\n",
              "      <td>3.39</td>\n",
              "      <td>17850.0</td>\n",
              "      <td>United Kingdom</td>\n",
              "    </tr>\n",
              "    <tr>\n",
              "      <th>4</th>\n",
              "      <td>6</td>\n",
              "      <td>12/1/2010 8:26</td>\n",
              "      <td>3.39</td>\n",
              "      <td>17850.0</td>\n",
              "      <td>United Kingdom</td>\n",
              "    </tr>\n",
              "    <tr>\n",
              "      <th>...</th>\n",
              "      <td>...</td>\n",
              "      <td>...</td>\n",
              "      <td>...</td>\n",
              "      <td>...</td>\n",
              "      <td>...</td>\n",
              "    </tr>\n",
              "    <tr>\n",
              "      <th>541904</th>\n",
              "      <td>12</td>\n",
              "      <td>12/9/2011 12:50</td>\n",
              "      <td>0.85</td>\n",
              "      <td>12680.0</td>\n",
              "      <td>France</td>\n",
              "    </tr>\n",
              "    <tr>\n",
              "      <th>541905</th>\n",
              "      <td>6</td>\n",
              "      <td>12/9/2011 12:50</td>\n",
              "      <td>2.10</td>\n",
              "      <td>12680.0</td>\n",
              "      <td>France</td>\n",
              "    </tr>\n",
              "    <tr>\n",
              "      <th>541906</th>\n",
              "      <td>4</td>\n",
              "      <td>12/9/2011 12:50</td>\n",
              "      <td>4.15</td>\n",
              "      <td>12680.0</td>\n",
              "      <td>France</td>\n",
              "    </tr>\n",
              "    <tr>\n",
              "      <th>541907</th>\n",
              "      <td>4</td>\n",
              "      <td>12/9/2011 12:50</td>\n",
              "      <td>4.15</td>\n",
              "      <td>12680.0</td>\n",
              "      <td>France</td>\n",
              "    </tr>\n",
              "    <tr>\n",
              "      <th>541908</th>\n",
              "      <td>3</td>\n",
              "      <td>12/9/2011 12:50</td>\n",
              "      <td>4.95</td>\n",
              "      <td>12680.0</td>\n",
              "      <td>France</td>\n",
              "    </tr>\n",
              "  </tbody>\n",
              "</table>\n",
              "<p>541909 rows × 5 columns</p>\n",
              "</div>"
            ],
            "text/plain": [
              "        Quantity      InvoiceDate  UnitPrice  CustomerID         Country\n",
              "0              6   12/1/2010 8:26       2.55     17850.0  United Kingdom\n",
              "1              6   12/1/2010 8:26       3.39     17850.0  United Kingdom\n",
              "2              8   12/1/2010 8:26       2.75     17850.0  United Kingdom\n",
              "3              6   12/1/2010 8:26       3.39     17850.0  United Kingdom\n",
              "4              6   12/1/2010 8:26       3.39     17850.0  United Kingdom\n",
              "...          ...              ...        ...         ...             ...\n",
              "541904        12  12/9/2011 12:50       0.85     12680.0          France\n",
              "541905         6  12/9/2011 12:50       2.10     12680.0          France\n",
              "541906         4  12/9/2011 12:50       4.15     12680.0          France\n",
              "541907         4  12/9/2011 12:50       4.15     12680.0          France\n",
              "541908         3  12/9/2011 12:50       4.95     12680.0          France\n",
              "\n",
              "[541909 rows x 5 columns]"
            ]
          },
          "metadata": {},
          "execution_count": 105
        }
      ]
    },
    {
      "cell_type": "markdown",
      "metadata": {
        "id": "pYC5HcV8Vetj"
      },
      "source": [
        "**multiplying quantity and unit price to come up with money spent by each customer**"
      ]
    },
    {
      "cell_type": "code",
      "metadata": {
        "colab": {
          "base_uri": "https://localhost:8080/",
          "height": 419
        },
        "id": "0Jns1KX-UjaF",
        "outputId": "87d78045-c723-47b4-a566-1cf16d7575bf"
      },
      "source": [
        "df1['revenue']=df1['Quantity']*df1['UnitPrice']\n",
        "df1"
      ],
      "execution_count": 106,
      "outputs": [
        {
          "output_type": "execute_result",
          "data": {
            "text/html": [
              "<div>\n",
              "<style scoped>\n",
              "    .dataframe tbody tr th:only-of-type {\n",
              "        vertical-align: middle;\n",
              "    }\n",
              "\n",
              "    .dataframe tbody tr th {\n",
              "        vertical-align: top;\n",
              "    }\n",
              "\n",
              "    .dataframe thead th {\n",
              "        text-align: right;\n",
              "    }\n",
              "</style>\n",
              "<table border=\"1\" class=\"dataframe\">\n",
              "  <thead>\n",
              "    <tr style=\"text-align: right;\">\n",
              "      <th></th>\n",
              "      <th>Quantity</th>\n",
              "      <th>InvoiceDate</th>\n",
              "      <th>UnitPrice</th>\n",
              "      <th>CustomerID</th>\n",
              "      <th>Country</th>\n",
              "      <th>revenue</th>\n",
              "    </tr>\n",
              "  </thead>\n",
              "  <tbody>\n",
              "    <tr>\n",
              "      <th>0</th>\n",
              "      <td>6</td>\n",
              "      <td>12/1/2010 8:26</td>\n",
              "      <td>2.55</td>\n",
              "      <td>17850.0</td>\n",
              "      <td>United Kingdom</td>\n",
              "      <td>15.30</td>\n",
              "    </tr>\n",
              "    <tr>\n",
              "      <th>1</th>\n",
              "      <td>6</td>\n",
              "      <td>12/1/2010 8:26</td>\n",
              "      <td>3.39</td>\n",
              "      <td>17850.0</td>\n",
              "      <td>United Kingdom</td>\n",
              "      <td>20.34</td>\n",
              "    </tr>\n",
              "    <tr>\n",
              "      <th>2</th>\n",
              "      <td>8</td>\n",
              "      <td>12/1/2010 8:26</td>\n",
              "      <td>2.75</td>\n",
              "      <td>17850.0</td>\n",
              "      <td>United Kingdom</td>\n",
              "      <td>22.00</td>\n",
              "    </tr>\n",
              "    <tr>\n",
              "      <th>3</th>\n",
              "      <td>6</td>\n",
              "      <td>12/1/2010 8:26</td>\n",
              "      <td>3.39</td>\n",
              "      <td>17850.0</td>\n",
              "      <td>United Kingdom</td>\n",
              "      <td>20.34</td>\n",
              "    </tr>\n",
              "    <tr>\n",
              "      <th>4</th>\n",
              "      <td>6</td>\n",
              "      <td>12/1/2010 8:26</td>\n",
              "      <td>3.39</td>\n",
              "      <td>17850.0</td>\n",
              "      <td>United Kingdom</td>\n",
              "      <td>20.34</td>\n",
              "    </tr>\n",
              "    <tr>\n",
              "      <th>...</th>\n",
              "      <td>...</td>\n",
              "      <td>...</td>\n",
              "      <td>...</td>\n",
              "      <td>...</td>\n",
              "      <td>...</td>\n",
              "      <td>...</td>\n",
              "    </tr>\n",
              "    <tr>\n",
              "      <th>541904</th>\n",
              "      <td>12</td>\n",
              "      <td>12/9/2011 12:50</td>\n",
              "      <td>0.85</td>\n",
              "      <td>12680.0</td>\n",
              "      <td>France</td>\n",
              "      <td>10.20</td>\n",
              "    </tr>\n",
              "    <tr>\n",
              "      <th>541905</th>\n",
              "      <td>6</td>\n",
              "      <td>12/9/2011 12:50</td>\n",
              "      <td>2.10</td>\n",
              "      <td>12680.0</td>\n",
              "      <td>France</td>\n",
              "      <td>12.60</td>\n",
              "    </tr>\n",
              "    <tr>\n",
              "      <th>541906</th>\n",
              "      <td>4</td>\n",
              "      <td>12/9/2011 12:50</td>\n",
              "      <td>4.15</td>\n",
              "      <td>12680.0</td>\n",
              "      <td>France</td>\n",
              "      <td>16.60</td>\n",
              "    </tr>\n",
              "    <tr>\n",
              "      <th>541907</th>\n",
              "      <td>4</td>\n",
              "      <td>12/9/2011 12:50</td>\n",
              "      <td>4.15</td>\n",
              "      <td>12680.0</td>\n",
              "      <td>France</td>\n",
              "      <td>16.60</td>\n",
              "    </tr>\n",
              "    <tr>\n",
              "      <th>541908</th>\n",
              "      <td>3</td>\n",
              "      <td>12/9/2011 12:50</td>\n",
              "      <td>4.95</td>\n",
              "      <td>12680.0</td>\n",
              "      <td>France</td>\n",
              "      <td>14.85</td>\n",
              "    </tr>\n",
              "  </tbody>\n",
              "</table>\n",
              "<p>541909 rows × 6 columns</p>\n",
              "</div>"
            ],
            "text/plain": [
              "        Quantity      InvoiceDate  ...         Country  revenue\n",
              "0              6   12/1/2010 8:26  ...  United Kingdom    15.30\n",
              "1              6   12/1/2010 8:26  ...  United Kingdom    20.34\n",
              "2              8   12/1/2010 8:26  ...  United Kingdom    22.00\n",
              "3              6   12/1/2010 8:26  ...  United Kingdom    20.34\n",
              "4              6   12/1/2010 8:26  ...  United Kingdom    20.34\n",
              "...          ...              ...  ...             ...      ...\n",
              "541904        12  12/9/2011 12:50  ...          France    10.20\n",
              "541905         6  12/9/2011 12:50  ...          France    12.60\n",
              "541906         4  12/9/2011 12:50  ...          France    16.60\n",
              "541907         4  12/9/2011 12:50  ...          France    16.60\n",
              "541908         3  12/9/2011 12:50  ...          France    14.85\n",
              "\n",
              "[541909 rows x 6 columns]"
            ]
          },
          "metadata": {},
          "execution_count": 106
        }
      ]
    },
    {
      "cell_type": "markdown",
      "metadata": {
        "id": "n1ZALff7WABc"
      },
      "source": [
        "**dropping off quantity , unit price**"
      ]
    },
    {
      "cell_type": "code",
      "metadata": {
        "colab": {
          "base_uri": "https://localhost:8080/",
          "height": 419
        },
        "id": "dVvYFDXxV6xY",
        "outputId": "106af157-9a4d-4d5b-b934-1965700195a0"
      },
      "source": [
        "df1.drop(['Quantity','UnitPrice'],axis=1,inplace=True)\n",
        "df1"
      ],
      "execution_count": 107,
      "outputs": [
        {
          "output_type": "execute_result",
          "data": {
            "text/html": [
              "<div>\n",
              "<style scoped>\n",
              "    .dataframe tbody tr th:only-of-type {\n",
              "        vertical-align: middle;\n",
              "    }\n",
              "\n",
              "    .dataframe tbody tr th {\n",
              "        vertical-align: top;\n",
              "    }\n",
              "\n",
              "    .dataframe thead th {\n",
              "        text-align: right;\n",
              "    }\n",
              "</style>\n",
              "<table border=\"1\" class=\"dataframe\">\n",
              "  <thead>\n",
              "    <tr style=\"text-align: right;\">\n",
              "      <th></th>\n",
              "      <th>InvoiceDate</th>\n",
              "      <th>CustomerID</th>\n",
              "      <th>Country</th>\n",
              "      <th>revenue</th>\n",
              "    </tr>\n",
              "  </thead>\n",
              "  <tbody>\n",
              "    <tr>\n",
              "      <th>0</th>\n",
              "      <td>12/1/2010 8:26</td>\n",
              "      <td>17850.0</td>\n",
              "      <td>United Kingdom</td>\n",
              "      <td>15.30</td>\n",
              "    </tr>\n",
              "    <tr>\n",
              "      <th>1</th>\n",
              "      <td>12/1/2010 8:26</td>\n",
              "      <td>17850.0</td>\n",
              "      <td>United Kingdom</td>\n",
              "      <td>20.34</td>\n",
              "    </tr>\n",
              "    <tr>\n",
              "      <th>2</th>\n",
              "      <td>12/1/2010 8:26</td>\n",
              "      <td>17850.0</td>\n",
              "      <td>United Kingdom</td>\n",
              "      <td>22.00</td>\n",
              "    </tr>\n",
              "    <tr>\n",
              "      <th>3</th>\n",
              "      <td>12/1/2010 8:26</td>\n",
              "      <td>17850.0</td>\n",
              "      <td>United Kingdom</td>\n",
              "      <td>20.34</td>\n",
              "    </tr>\n",
              "    <tr>\n",
              "      <th>4</th>\n",
              "      <td>12/1/2010 8:26</td>\n",
              "      <td>17850.0</td>\n",
              "      <td>United Kingdom</td>\n",
              "      <td>20.34</td>\n",
              "    </tr>\n",
              "    <tr>\n",
              "      <th>...</th>\n",
              "      <td>...</td>\n",
              "      <td>...</td>\n",
              "      <td>...</td>\n",
              "      <td>...</td>\n",
              "    </tr>\n",
              "    <tr>\n",
              "      <th>541904</th>\n",
              "      <td>12/9/2011 12:50</td>\n",
              "      <td>12680.0</td>\n",
              "      <td>France</td>\n",
              "      <td>10.20</td>\n",
              "    </tr>\n",
              "    <tr>\n",
              "      <th>541905</th>\n",
              "      <td>12/9/2011 12:50</td>\n",
              "      <td>12680.0</td>\n",
              "      <td>France</td>\n",
              "      <td>12.60</td>\n",
              "    </tr>\n",
              "    <tr>\n",
              "      <th>541906</th>\n",
              "      <td>12/9/2011 12:50</td>\n",
              "      <td>12680.0</td>\n",
              "      <td>France</td>\n",
              "      <td>16.60</td>\n",
              "    </tr>\n",
              "    <tr>\n",
              "      <th>541907</th>\n",
              "      <td>12/9/2011 12:50</td>\n",
              "      <td>12680.0</td>\n",
              "      <td>France</td>\n",
              "      <td>16.60</td>\n",
              "    </tr>\n",
              "    <tr>\n",
              "      <th>541908</th>\n",
              "      <td>12/9/2011 12:50</td>\n",
              "      <td>12680.0</td>\n",
              "      <td>France</td>\n",
              "      <td>14.85</td>\n",
              "    </tr>\n",
              "  </tbody>\n",
              "</table>\n",
              "<p>541909 rows × 4 columns</p>\n",
              "</div>"
            ],
            "text/plain": [
              "            InvoiceDate  CustomerID         Country  revenue\n",
              "0        12/1/2010 8:26     17850.0  United Kingdom    15.30\n",
              "1        12/1/2010 8:26     17850.0  United Kingdom    20.34\n",
              "2        12/1/2010 8:26     17850.0  United Kingdom    22.00\n",
              "3        12/1/2010 8:26     17850.0  United Kingdom    20.34\n",
              "4        12/1/2010 8:26     17850.0  United Kingdom    20.34\n",
              "...                 ...         ...             ...      ...\n",
              "541904  12/9/2011 12:50     12680.0          France    10.20\n",
              "541905  12/9/2011 12:50     12680.0          France    12.60\n",
              "541906  12/9/2011 12:50     12680.0          France    16.60\n",
              "541907  12/9/2011 12:50     12680.0          France    16.60\n",
              "541908  12/9/2011 12:50     12680.0          France    14.85\n",
              "\n",
              "[541909 rows x 4 columns]"
            ]
          },
          "metadata": {},
          "execution_count": 107
        }
      ]
    },
    {
      "cell_type": "markdown",
      "metadata": {
        "id": "Pji3kA6d-Ywi"
      },
      "source": [
        "***checking dataset***\n",
        "\n",
        "\n",
        "1.   **we will find out missing data and do imputations**\n",
        "2.   **we will see if customer id of 2 or more countries match**\n",
        "\n"
      ]
    },
    {
      "cell_type": "code",
      "metadata": {
        "colab": {
          "base_uri": "https://localhost:8080/",
          "height": 111
        },
        "id": "4unFb5N6_DqV",
        "outputId": "773e8809-41b4-4edd-8918-53140aeafdea"
      },
      "source": [
        "# checking for missing data\n",
        "total = df1.isnull().sum().sort_values(ascending=False)\n",
        "percent = ((df1.isnull().sum()/len(df1))*100).sort_values(ascending=True)\n",
        "missing_data = pd.concat([total, percent], axis=1, keys=['Total', 'Percentage of total data'])\n",
        "nan=missing_data[missing_data[\"Total\"]>0].index\n",
        "missing_data=missing_data[missing_data[\"Total\"]>0]\n",
        "nan=pd.DataFrame(nan, columns=['nan col'])\n",
        "nan\n",
        "j=[]\n",
        "for i in nan['nan col']:\n",
        "    j.append(df1[i].dtype)\n",
        "j=pd.DataFrame(j,columns=['type'])\n",
        "nan=pd.concat([nan,j],axis=1).set_index('nan col')\n",
        "nan=pd.concat([missing_data,nan],axis=1)\n",
        "nan"
      ],
      "execution_count": 108,
      "outputs": [
        {
          "output_type": "execute_result",
          "data": {
            "text/html": [
              "<div>\n",
              "<style scoped>\n",
              "    .dataframe tbody tr th:only-of-type {\n",
              "        vertical-align: middle;\n",
              "    }\n",
              "\n",
              "    .dataframe tbody tr th {\n",
              "        vertical-align: top;\n",
              "    }\n",
              "\n",
              "    .dataframe thead th {\n",
              "        text-align: right;\n",
              "    }\n",
              "</style>\n",
              "<table border=\"1\" class=\"dataframe\">\n",
              "  <thead>\n",
              "    <tr style=\"text-align: right;\">\n",
              "      <th></th>\n",
              "      <th>Total</th>\n",
              "      <th>Percentage of total data</th>\n",
              "      <th>type</th>\n",
              "    </tr>\n",
              "    <tr>\n",
              "      <th>nan col</th>\n",
              "      <th></th>\n",
              "      <th></th>\n",
              "      <th></th>\n",
              "    </tr>\n",
              "  </thead>\n",
              "  <tbody>\n",
              "    <tr>\n",
              "      <th>CustomerID</th>\n",
              "      <td>135080</td>\n",
              "      <td>24.926694</td>\n",
              "      <td>float64</td>\n",
              "    </tr>\n",
              "  </tbody>\n",
              "</table>\n",
              "</div>"
            ],
            "text/plain": [
              "             Total  Percentage of total data     type\n",
              "nan col                                              \n",
              "CustomerID  135080                 24.926694  float64"
            ]
          },
          "metadata": {},
          "execution_count": 108
        }
      ]
    },
    {
      "cell_type": "markdown",
      "metadata": {
        "id": "A55iNjOLKxxN"
      },
      "source": [
        "**as we can see customer id has more than 20% missing data. we will have to drop this missing rows, as there are no ways of imputing missing values.**"
      ]
    },
    {
      "cell_type": "code",
      "metadata": {
        "colab": {
          "base_uri": "https://localhost:8080/",
          "height": 419
        },
        "id": "kgPDb5OGQ8kc",
        "outputId": "eb2f762a-2866-4bd3-f9c4-7fe9ea36e4db"
      },
      "source": [
        "#dropping nan values\n",
        "df1=df1.dropna(axis=0)\n",
        "df1"
      ],
      "execution_count": 109,
      "outputs": [
        {
          "output_type": "execute_result",
          "data": {
            "text/html": [
              "<div>\n",
              "<style scoped>\n",
              "    .dataframe tbody tr th:only-of-type {\n",
              "        vertical-align: middle;\n",
              "    }\n",
              "\n",
              "    .dataframe tbody tr th {\n",
              "        vertical-align: top;\n",
              "    }\n",
              "\n",
              "    .dataframe thead th {\n",
              "        text-align: right;\n",
              "    }\n",
              "</style>\n",
              "<table border=\"1\" class=\"dataframe\">\n",
              "  <thead>\n",
              "    <tr style=\"text-align: right;\">\n",
              "      <th></th>\n",
              "      <th>InvoiceDate</th>\n",
              "      <th>CustomerID</th>\n",
              "      <th>Country</th>\n",
              "      <th>revenue</th>\n",
              "    </tr>\n",
              "  </thead>\n",
              "  <tbody>\n",
              "    <tr>\n",
              "      <th>0</th>\n",
              "      <td>12/1/2010 8:26</td>\n",
              "      <td>17850.0</td>\n",
              "      <td>United Kingdom</td>\n",
              "      <td>15.30</td>\n",
              "    </tr>\n",
              "    <tr>\n",
              "      <th>1</th>\n",
              "      <td>12/1/2010 8:26</td>\n",
              "      <td>17850.0</td>\n",
              "      <td>United Kingdom</td>\n",
              "      <td>20.34</td>\n",
              "    </tr>\n",
              "    <tr>\n",
              "      <th>2</th>\n",
              "      <td>12/1/2010 8:26</td>\n",
              "      <td>17850.0</td>\n",
              "      <td>United Kingdom</td>\n",
              "      <td>22.00</td>\n",
              "    </tr>\n",
              "    <tr>\n",
              "      <th>3</th>\n",
              "      <td>12/1/2010 8:26</td>\n",
              "      <td>17850.0</td>\n",
              "      <td>United Kingdom</td>\n",
              "      <td>20.34</td>\n",
              "    </tr>\n",
              "    <tr>\n",
              "      <th>4</th>\n",
              "      <td>12/1/2010 8:26</td>\n",
              "      <td>17850.0</td>\n",
              "      <td>United Kingdom</td>\n",
              "      <td>20.34</td>\n",
              "    </tr>\n",
              "    <tr>\n",
              "      <th>...</th>\n",
              "      <td>...</td>\n",
              "      <td>...</td>\n",
              "      <td>...</td>\n",
              "      <td>...</td>\n",
              "    </tr>\n",
              "    <tr>\n",
              "      <th>541904</th>\n",
              "      <td>12/9/2011 12:50</td>\n",
              "      <td>12680.0</td>\n",
              "      <td>France</td>\n",
              "      <td>10.20</td>\n",
              "    </tr>\n",
              "    <tr>\n",
              "      <th>541905</th>\n",
              "      <td>12/9/2011 12:50</td>\n",
              "      <td>12680.0</td>\n",
              "      <td>France</td>\n",
              "      <td>12.60</td>\n",
              "    </tr>\n",
              "    <tr>\n",
              "      <th>541906</th>\n",
              "      <td>12/9/2011 12:50</td>\n",
              "      <td>12680.0</td>\n",
              "      <td>France</td>\n",
              "      <td>16.60</td>\n",
              "    </tr>\n",
              "    <tr>\n",
              "      <th>541907</th>\n",
              "      <td>12/9/2011 12:50</td>\n",
              "      <td>12680.0</td>\n",
              "      <td>France</td>\n",
              "      <td>16.60</td>\n",
              "    </tr>\n",
              "    <tr>\n",
              "      <th>541908</th>\n",
              "      <td>12/9/2011 12:50</td>\n",
              "      <td>12680.0</td>\n",
              "      <td>France</td>\n",
              "      <td>14.85</td>\n",
              "    </tr>\n",
              "  </tbody>\n",
              "</table>\n",
              "<p>406829 rows × 4 columns</p>\n",
              "</div>"
            ],
            "text/plain": [
              "            InvoiceDate  CustomerID         Country  revenue\n",
              "0        12/1/2010 8:26     17850.0  United Kingdom    15.30\n",
              "1        12/1/2010 8:26     17850.0  United Kingdom    20.34\n",
              "2        12/1/2010 8:26     17850.0  United Kingdom    22.00\n",
              "3        12/1/2010 8:26     17850.0  United Kingdom    20.34\n",
              "4        12/1/2010 8:26     17850.0  United Kingdom    20.34\n",
              "...                 ...         ...             ...      ...\n",
              "541904  12/9/2011 12:50     12680.0          France    10.20\n",
              "541905  12/9/2011 12:50     12680.0          France    12.60\n",
              "541906  12/9/2011 12:50     12680.0          France    16.60\n",
              "541907  12/9/2011 12:50     12680.0          France    16.60\n",
              "541908  12/9/2011 12:50     12680.0          France    14.85\n",
              "\n",
              "[406829 rows x 4 columns]"
            ]
          },
          "metadata": {},
          "execution_count": 109
        }
      ]
    },
    {
      "cell_type": "code",
      "metadata": {
        "colab": {
          "base_uri": "https://localhost:8080/",
          "height": 80
        },
        "id": "c5gpqVewRKdT",
        "outputId": "2f734343-142a-4dff-d1a1-ff42ba934fb6"
      },
      "source": [
        "#checking if dataset still has missing values\n",
        "total = df1.isnull().sum().sort_values(ascending=False)\n",
        "percent = ((df1.isnull().sum()/len(df1))*100).sort_values(ascending=True)\n",
        "missing_data = pd.concat([total, percent], axis=1, keys=['Total', 'Percent'])\n",
        "nan=missing_data[missing_data[\"Total\"]>0].index\n",
        "missing_data=missing_data[missing_data[\"Total\"]>0]\n",
        "nan=pd.DataFrame(nan, columns=['nan col'])\n",
        "nan\n",
        "j=[]\n",
        "for i in nan['nan col']:\n",
        "    j.append(df1[i].dtype)\n",
        "j=pd.DataFrame(j,columns=['type'])\n",
        "nan=pd.concat([nan,j],axis=1).set_index('nan col')\n",
        "nan=pd.concat([missing_data,nan],axis=1)\n",
        "nan"
      ],
      "execution_count": 110,
      "outputs": [
        {
          "output_type": "execute_result",
          "data": {
            "text/html": [
              "<div>\n",
              "<style scoped>\n",
              "    .dataframe tbody tr th:only-of-type {\n",
              "        vertical-align: middle;\n",
              "    }\n",
              "\n",
              "    .dataframe tbody tr th {\n",
              "        vertical-align: top;\n",
              "    }\n",
              "\n",
              "    .dataframe thead th {\n",
              "        text-align: right;\n",
              "    }\n",
              "</style>\n",
              "<table border=\"1\" class=\"dataframe\">\n",
              "  <thead>\n",
              "    <tr style=\"text-align: right;\">\n",
              "      <th></th>\n",
              "      <th>Total</th>\n",
              "      <th>Percent</th>\n",
              "      <th>type</th>\n",
              "    </tr>\n",
              "    <tr>\n",
              "      <th>nan col</th>\n",
              "      <th></th>\n",
              "      <th></th>\n",
              "      <th></th>\n",
              "    </tr>\n",
              "  </thead>\n",
              "  <tbody>\n",
              "  </tbody>\n",
              "</table>\n",
              "</div>"
            ],
            "text/plain": [
              "Empty DataFrame\n",
              "Columns: [Total, Percent, type]\n",
              "Index: []"
            ]
          },
          "metadata": {},
          "execution_count": 110
        }
      ]
    },
    {
      "cell_type": "code",
      "metadata": {
        "colab": {
          "base_uri": "https://localhost:8080/"
        },
        "id": "rKDKQZcE4La1",
        "outputId": "2e04b545-fcd4-40f9-e090-e5072849bf6a"
      },
      "source": [
        "#checking unique countries\n",
        "countries=df1.Country.unique()\n",
        "countries"
      ],
      "execution_count": 111,
      "outputs": [
        {
          "output_type": "execute_result",
          "data": {
            "text/plain": [
              "array(['United Kingdom', 'France', 'Australia', 'Netherlands', 'Germany',\n",
              "       'Norway', 'EIRE', 'Switzerland', 'Spain', 'Poland', 'Portugal',\n",
              "       'Italy', 'Belgium', 'Lithuania', 'Japan', 'Iceland',\n",
              "       'Channel Islands', 'Denmark', 'Cyprus', 'Sweden', 'Austria',\n",
              "       'Israel', 'Finland', 'Greece', 'Singapore', 'Lebanon',\n",
              "       'United Arab Emirates', 'Saudi Arabia', 'Czech Republic', 'Canada',\n",
              "       'Unspecified', 'Brazil', 'USA', 'European Community', 'Bahrain',\n",
              "       'Malta', 'RSA'], dtype=object)"
            ]
          },
          "metadata": {},
          "execution_count": 111
        }
      ]
    },
    {
      "cell_type": "code",
      "metadata": {
        "id": "I-NgvQhbKpE8"
      },
      "source": [
        ""
      ],
      "execution_count": 111,
      "outputs": []
    },
    {
      "cell_type": "code",
      "metadata": {
        "colab": {
          "base_uri": "https://localhost:8080/"
        },
        "id": "EGyRqqzu8CXn",
        "outputId": "22cddb55-63fa-4f94-95cb-0699966926f7"
      },
      "source": [
        "#checking if multiple countries have same customer id. we will add all unique customer id from different countries and check if duplicate exsist in the list\n",
        "l1=[]\n",
        "l2=[]\n",
        "for i in countries:\n",
        "  count=i\n",
        "  count1=df1[df1['Country']==count].CustomerID\n",
        "  count1=count1.to_frame()\n",
        "  l1=count1['CustomerID'].unique()\n",
        "  l2.extend(l1)\n",
        "  print(\"country\",i)\n",
        "  print(\"no of unique customer in the country\",len(l1))\n",
        "  print(\"total no of unique customer\",len(l2))\n",
        "  del l1\n",
        "  del count1"
      ],
      "execution_count": 112,
      "outputs": [
        {
          "output_type": "stream",
          "name": "stdout",
          "text": [
            "country United Kingdom\n",
            "no of unique customer in the country 3950\n",
            "total no of unique customer 3950\n",
            "country France\n",
            "no of unique customer in the country 87\n",
            "total no of unique customer 4037\n",
            "country Australia\n",
            "no of unique customer in the country 9\n",
            "total no of unique customer 4046\n",
            "country Netherlands\n",
            "no of unique customer in the country 9\n",
            "total no of unique customer 4055\n",
            "country Germany\n",
            "no of unique customer in the country 95\n",
            "total no of unique customer 4150\n",
            "country Norway\n",
            "no of unique customer in the country 10\n",
            "total no of unique customer 4160\n",
            "country EIRE\n",
            "no of unique customer in the country 3\n",
            "total no of unique customer 4163\n",
            "country Switzerland\n",
            "no of unique customer in the country 21\n",
            "total no of unique customer 4184\n",
            "country Spain\n",
            "no of unique customer in the country 31\n",
            "total no of unique customer 4215\n",
            "country Poland\n",
            "no of unique customer in the country 6\n",
            "total no of unique customer 4221\n",
            "country Portugal\n",
            "no of unique customer in the country 19\n",
            "total no of unique customer 4240\n",
            "country Italy\n",
            "no of unique customer in the country 15\n",
            "total no of unique customer 4255\n",
            "country Belgium\n",
            "no of unique customer in the country 25\n",
            "total no of unique customer 4280\n",
            "country Lithuania\n",
            "no of unique customer in the country 1\n",
            "total no of unique customer 4281\n",
            "country Japan\n",
            "no of unique customer in the country 8\n",
            "total no of unique customer 4289\n",
            "country Iceland\n",
            "no of unique customer in the country 1\n",
            "total no of unique customer 4290\n",
            "country Channel Islands\n",
            "no of unique customer in the country 9\n",
            "total no of unique customer 4299\n",
            "country Denmark\n",
            "no of unique customer in the country 9\n",
            "total no of unique customer 4308\n",
            "country Cyprus\n",
            "no of unique customer in the country 8\n",
            "total no of unique customer 4316\n",
            "country Sweden\n",
            "no of unique customer in the country 8\n",
            "total no of unique customer 4324\n",
            "country Austria\n",
            "no of unique customer in the country 11\n",
            "total no of unique customer 4335\n",
            "country Israel\n",
            "no of unique customer in the country 4\n",
            "total no of unique customer 4339\n",
            "country Finland\n",
            "no of unique customer in the country 12\n",
            "total no of unique customer 4351\n",
            "country Greece\n",
            "no of unique customer in the country 4\n",
            "total no of unique customer 4355\n",
            "country Singapore\n",
            "no of unique customer in the country 1\n",
            "total no of unique customer 4356\n",
            "country Lebanon\n",
            "no of unique customer in the country 1\n",
            "total no of unique customer 4357\n",
            "country United Arab Emirates\n",
            "no of unique customer in the country 2\n",
            "total no of unique customer 4359\n",
            "country Saudi Arabia\n",
            "no of unique customer in the country 1\n",
            "total no of unique customer 4360\n",
            "country Czech Republic\n",
            "no of unique customer in the country 1\n",
            "total no of unique customer 4361\n",
            "country Canada\n",
            "no of unique customer in the country 4\n",
            "total no of unique customer 4365\n",
            "country Unspecified\n",
            "no of unique customer in the country 4\n",
            "total no of unique customer 4369\n",
            "country Brazil\n",
            "no of unique customer in the country 1\n",
            "total no of unique customer 4370\n",
            "country USA\n",
            "no of unique customer in the country 4\n",
            "total no of unique customer 4374\n",
            "country European Community\n",
            "no of unique customer in the country 1\n",
            "total no of unique customer 4375\n",
            "country Bahrain\n",
            "no of unique customer in the country 2\n",
            "total no of unique customer 4377\n",
            "country Malta\n",
            "no of unique customer in the country 2\n",
            "total no of unique customer 4379\n",
            "country RSA\n",
            "no of unique customer in the country 1\n",
            "total no of unique customer 4380\n"
          ]
        }
      ]
    },
    {
      "cell_type": "code",
      "metadata": {
        "id": "-8vECcdCczom"
      },
      "source": [
        "#function to check if duplicate exist\n",
        "def checkIfDuplicates_3(listOfElems):\n",
        "\n",
        "  for elem in listOfElems:\n",
        "        if listOfElems.count(elem) > 1:\n",
        "            return True\n",
        "  return False\n",
        "    "
      ],
      "execution_count": 113,
      "outputs": []
    },
    {
      "cell_type": "code",
      "metadata": {
        "colab": {
          "base_uri": "https://localhost:8080/"
        },
        "id": "qZwJxVUEluP6",
        "outputId": "90e83788-ee46-4e70-ef84-8347d68ff503"
      },
      "source": [
        "#checking for duplicate\n",
        "result = checkIfDuplicates_3(l2)\n",
        "if result:\n",
        "    print('Yes, list contains duplicates')\n",
        "else:\n",
        "    print('No duplicates found in list')    "
      ],
      "execution_count": 114,
      "outputs": [
        {
          "output_type": "stream",
          "name": "stdout",
          "text": [
            "Yes, list contains duplicates\n"
          ]
        }
      ]
    },
    {
      "cell_type": "markdown",
      "metadata": {
        "id": "x3vlt-guJ6Mv"
      },
      "source": [
        "**so we can see that multiple countries are having same customer id**"
      ]
    },
    {
      "cell_type": "markdown",
      "metadata": {
        "id": "d4ADJsDRqA0r"
      },
      "source": [
        "***now we need to find out into how many segments do our customer fall***\n",
        "\n",
        "1.   **find out what are the duplicate customer id are there and to which countries they belong**\n",
        "2.   **delete duplicate customer id(for model building we will use entire dataset without any deletion of records)**\n",
        "\n",
        "\n"
      ]
    },
    {
      "cell_type": "code",
      "metadata": {
        "colab": {
          "base_uri": "https://localhost:8080/"
        },
        "id": "mayw-zF7sRxS",
        "outputId": "9d9ed36f-21be-4ebf-e326-b1b53e575852"
      },
      "source": [
        "#finding out duplicarte customer id\n",
        "dup=pd.Series(l2)[pd.Series(l2).duplicated()].values\n",
        "dup"
      ],
      "execution_count": 115,
      "outputs": [
        {
          "output_type": "execute_result",
          "data": {
            "text/plain": [
              "array([12422., 12417., 12431., 12394., 12455., 12457., 12370., 12429.])"
            ]
          },
          "metadata": {},
          "execution_count": 115
        }
      ]
    },
    {
      "cell_type": "code",
      "metadata": {
        "colab": {
          "base_uri": "https://localhost:8080/"
        },
        "id": "VxNrm02zs0it",
        "outputId": "88a305d2-b78a-4ac6-f33d-f91926d06cc7"
      },
      "source": [
        "#finding out to which country they belong to\n",
        "a=0\n",
        "for i in dup:\n",
        "  print(\"customerid\",i)\n",
        "  print('unique country',df1['Country'][df1['CustomerID']==i].unique())\n",
        "  print('no of rows of data',df1['CustomerID'][df1['CustomerID']==i].count())\n",
        "  a=a+df1['CustomerID'][df1['CustomerID']==i].count()\n",
        "  print(\"total rows=\",a)"
      ],
      "execution_count": 116,
      "outputs": [
        {
          "output_type": "stream",
          "name": "stdout",
          "text": [
            "customerid 12422.0\n",
            "unique country ['Australia' 'Switzerland']\n",
            "no of rows of data 39\n",
            "total rows= 39\n",
            "customerid 12417.0\n",
            "unique country ['Belgium' 'Spain']\n",
            "no of rows of data 198\n",
            "total rows= 237\n",
            "customerid 12431.0\n",
            "unique country ['Australia' 'Belgium']\n",
            "no of rows of data 240\n",
            "total rows= 477\n",
            "customerid 12394.0\n",
            "unique country ['Belgium' 'Denmark']\n",
            "no of rows of data 27\n",
            "total rows= 504\n",
            "customerid 12455.0\n",
            "unique country ['Cyprus' 'Spain']\n",
            "no of rows of data 90\n",
            "total rows= 594\n",
            "customerid 12457.0\n",
            "unique country ['Switzerland' 'Cyprus']\n",
            "no of rows of data 68\n",
            "total rows= 662\n",
            "customerid 12370.0\n",
            "unique country ['Cyprus' 'Austria']\n",
            "no of rows of data 167\n",
            "total rows= 829\n",
            "customerid 12429.0\n",
            "unique country ['Denmark' 'Austria']\n",
            "no of rows of data 97\n",
            "total rows= 926\n"
          ]
        }
      ]
    },
    {
      "cell_type": "markdown",
      "metadata": {
        "id": "5S15Ys9fwMqF"
      },
      "source": [
        "***so countries having same customer id are \"Australia\",'Switzerland','Belgium' 'Spain','Denmark','cyprus','Austria'***                                         \n",
        "**no of unique customer in these countries are:-**\n",
        "\n",
        "\n",
        "1.   \"Australia\"=9,\n",
        "2.   'Switzerland'=21,\n",
        "3.   'Belgium'==25,\n",
        "4.   'Spain'=31,\n",
        "5.   'Denmark'=9,\n",
        "6.   'cyprus'=8,\n",
        "7.    'Austria'=11\n",
        "**we can see that each of these countries have more than 1 unique customers. So we can safely delete these duplicate customer, and continue with analysis**\n"
      ]
    },
    {
      "cell_type": "code",
      "metadata": {
        "colab": {
          "base_uri": "https://localhost:8080/"
        },
        "id": "U4vR8Ysd3BFo",
        "outputId": "92002d7c-cf17-4e1d-c551-07ac91522138"
      },
      "source": [
        "print(\"no of rows before deleting=\",df1['CustomerID'].count())\n",
        "z=df1['CustomerID'].count"
      ],
      "execution_count": 117,
      "outputs": [
        {
          "output_type": "stream",
          "name": "stdout",
          "text": [
            "no of rows before deleting= 406829\n"
          ]
        }
      ]
    },
    {
      "cell_type": "code",
      "metadata": {
        "id": "JRshKCr6qf-n"
      },
      "source": [
        "# deleting duplicate customers\n",
        "for j in dup:\n",
        "  df1 = df1[df1.CustomerID != j]"
      ],
      "execution_count": 118,
      "outputs": []
    },
    {
      "cell_type": "code",
      "metadata": {
        "colab": {
          "base_uri": "https://localhost:8080/"
        },
        "id": "bbW52g5H3H5p",
        "outputId": "705f61db-4e0d-449f-99b7-413996e27cd2"
      },
      "source": [
        "print(\"no of rows after deleting=\",df1['CustomerID'].count())\n",
        "print(\"no of rows deleted is same as the total no of duplicate customerid,406829-405903=926\",)"
      ],
      "execution_count": 119,
      "outputs": [
        {
          "output_type": "stream",
          "name": "stdout",
          "text": [
            "no of rows after deleting= 405903\n",
            "no of rows deleted is same as the total no of duplicate customerid,406829-405903=926\n"
          ]
        }
      ]
    },
    {
      "cell_type": "code",
      "metadata": {
        "colab": {
          "base_uri": "https://localhost:8080/",
          "height": 419
        },
        "id": "eYwi2kyQ9D0i",
        "outputId": "fe0c6523-4666-4ed9-b6c0-76843cad99db"
      },
      "source": [
        "df1"
      ],
      "execution_count": 120,
      "outputs": [
        {
          "output_type": "execute_result",
          "data": {
            "text/html": [
              "<div>\n",
              "<style scoped>\n",
              "    .dataframe tbody tr th:only-of-type {\n",
              "        vertical-align: middle;\n",
              "    }\n",
              "\n",
              "    .dataframe tbody tr th {\n",
              "        vertical-align: top;\n",
              "    }\n",
              "\n",
              "    .dataframe thead th {\n",
              "        text-align: right;\n",
              "    }\n",
              "</style>\n",
              "<table border=\"1\" class=\"dataframe\">\n",
              "  <thead>\n",
              "    <tr style=\"text-align: right;\">\n",
              "      <th></th>\n",
              "      <th>InvoiceDate</th>\n",
              "      <th>CustomerID</th>\n",
              "      <th>Country</th>\n",
              "      <th>revenue</th>\n",
              "    </tr>\n",
              "  </thead>\n",
              "  <tbody>\n",
              "    <tr>\n",
              "      <th>0</th>\n",
              "      <td>12/1/2010 8:26</td>\n",
              "      <td>17850.0</td>\n",
              "      <td>United Kingdom</td>\n",
              "      <td>15.30</td>\n",
              "    </tr>\n",
              "    <tr>\n",
              "      <th>1</th>\n",
              "      <td>12/1/2010 8:26</td>\n",
              "      <td>17850.0</td>\n",
              "      <td>United Kingdom</td>\n",
              "      <td>20.34</td>\n",
              "    </tr>\n",
              "    <tr>\n",
              "      <th>2</th>\n",
              "      <td>12/1/2010 8:26</td>\n",
              "      <td>17850.0</td>\n",
              "      <td>United Kingdom</td>\n",
              "      <td>22.00</td>\n",
              "    </tr>\n",
              "    <tr>\n",
              "      <th>3</th>\n",
              "      <td>12/1/2010 8:26</td>\n",
              "      <td>17850.0</td>\n",
              "      <td>United Kingdom</td>\n",
              "      <td>20.34</td>\n",
              "    </tr>\n",
              "    <tr>\n",
              "      <th>4</th>\n",
              "      <td>12/1/2010 8:26</td>\n",
              "      <td>17850.0</td>\n",
              "      <td>United Kingdom</td>\n",
              "      <td>20.34</td>\n",
              "    </tr>\n",
              "    <tr>\n",
              "      <th>...</th>\n",
              "      <td>...</td>\n",
              "      <td>...</td>\n",
              "      <td>...</td>\n",
              "      <td>...</td>\n",
              "    </tr>\n",
              "    <tr>\n",
              "      <th>541904</th>\n",
              "      <td>12/9/2011 12:50</td>\n",
              "      <td>12680.0</td>\n",
              "      <td>France</td>\n",
              "      <td>10.20</td>\n",
              "    </tr>\n",
              "    <tr>\n",
              "      <th>541905</th>\n",
              "      <td>12/9/2011 12:50</td>\n",
              "      <td>12680.0</td>\n",
              "      <td>France</td>\n",
              "      <td>12.60</td>\n",
              "    </tr>\n",
              "    <tr>\n",
              "      <th>541906</th>\n",
              "      <td>12/9/2011 12:50</td>\n",
              "      <td>12680.0</td>\n",
              "      <td>France</td>\n",
              "      <td>16.60</td>\n",
              "    </tr>\n",
              "    <tr>\n",
              "      <th>541907</th>\n",
              "      <td>12/9/2011 12:50</td>\n",
              "      <td>12680.0</td>\n",
              "      <td>France</td>\n",
              "      <td>16.60</td>\n",
              "    </tr>\n",
              "    <tr>\n",
              "      <th>541908</th>\n",
              "      <td>12/9/2011 12:50</td>\n",
              "      <td>12680.0</td>\n",
              "      <td>France</td>\n",
              "      <td>14.85</td>\n",
              "    </tr>\n",
              "  </tbody>\n",
              "</table>\n",
              "<p>405903 rows × 4 columns</p>\n",
              "</div>"
            ],
            "text/plain": [
              "            InvoiceDate  CustomerID         Country  revenue\n",
              "0        12/1/2010 8:26     17850.0  United Kingdom    15.30\n",
              "1        12/1/2010 8:26     17850.0  United Kingdom    20.34\n",
              "2        12/1/2010 8:26     17850.0  United Kingdom    22.00\n",
              "3        12/1/2010 8:26     17850.0  United Kingdom    20.34\n",
              "4        12/1/2010 8:26     17850.0  United Kingdom    20.34\n",
              "...                 ...         ...             ...      ...\n",
              "541904  12/9/2011 12:50     12680.0          France    10.20\n",
              "541905  12/9/2011 12:50     12680.0          France    12.60\n",
              "541906  12/9/2011 12:50     12680.0          France    16.60\n",
              "541907  12/9/2011 12:50     12680.0          France    16.60\n",
              "541908  12/9/2011 12:50     12680.0          France    14.85\n",
              "\n",
              "[405903 rows x 4 columns]"
            ]
          },
          "metadata": {},
          "execution_count": 120
        }
      ]
    },
    {
      "cell_type": "markdown",
      "metadata": {
        "id": "5WtZMxLx-P1M"
      },
      "source": [
        "**we have deleted duplicate record. Now we need to create clusters for this we need to find below**                                           \n",
        "\n",
        "1.   **calculate recency and create recency cluster(using  k mean cluster by elbow meathod)**\n",
        "2.   **calculate frequency at which customer buys product and create frequenncy cluster(using k mean cluster by elbow meathod)**\n",
        "3.   **calculate revenue generated by them(using k mean cluster by elbow meathod)**\n",
        "\n"
      ]
    },
    {
      "cell_type": "markdown",
      "metadata": {
        "id": "iSplQNImA4bs"
      },
      "source": [
        "***1. recency is how much a customer is inactitve. for this we need to subtract recent purchase date from max purchase date***"
      ]
    },
    {
      "cell_type": "code",
      "metadata": {
        "id": "eJiPoON9L5Ey"
      },
      "source": [
        "#convert the string date field to datetime\n",
        "df1['InvoiceDate'] = pd.to_datetime(df1['InvoiceDate'])\n"
      ],
      "execution_count": 121,
      "outputs": []
    },
    {
      "cell_type": "code",
      "metadata": {
        "colab": {
          "base_uri": "https://localhost:8080/",
          "height": 419
        },
        "id": "T5eeLr-Aara4",
        "outputId": "97d9349f-97f5-4d00-8d2f-6f737c07e2dc"
      },
      "source": [
        "# create a new dataframe where we will add all unique customer, recency,frequency and revenue\n",
        "#create a generic user dataframe to keep CustomerID and new segmentation scores\n",
        "df3 = pd.DataFrame(df1['CustomerID'].unique())\n",
        "df3.columns = ['CustomerID']\n",
        "df3"
      ],
      "execution_count": 122,
      "outputs": [
        {
          "output_type": "execute_result",
          "data": {
            "text/html": [
              "<div>\n",
              "<style scoped>\n",
              "    .dataframe tbody tr th:only-of-type {\n",
              "        vertical-align: middle;\n",
              "    }\n",
              "\n",
              "    .dataframe tbody tr th {\n",
              "        vertical-align: top;\n",
              "    }\n",
              "\n",
              "    .dataframe thead th {\n",
              "        text-align: right;\n",
              "    }\n",
              "</style>\n",
              "<table border=\"1\" class=\"dataframe\">\n",
              "  <thead>\n",
              "    <tr style=\"text-align: right;\">\n",
              "      <th></th>\n",
              "      <th>CustomerID</th>\n",
              "    </tr>\n",
              "  </thead>\n",
              "  <tbody>\n",
              "    <tr>\n",
              "      <th>0</th>\n",
              "      <td>17850.0</td>\n",
              "    </tr>\n",
              "    <tr>\n",
              "      <th>1</th>\n",
              "      <td>13047.0</td>\n",
              "    </tr>\n",
              "    <tr>\n",
              "      <th>2</th>\n",
              "      <td>12583.0</td>\n",
              "    </tr>\n",
              "    <tr>\n",
              "      <th>3</th>\n",
              "      <td>13748.0</td>\n",
              "    </tr>\n",
              "    <tr>\n",
              "      <th>4</th>\n",
              "      <td>15100.0</td>\n",
              "    </tr>\n",
              "    <tr>\n",
              "      <th>...</th>\n",
              "      <td>...</td>\n",
              "    </tr>\n",
              "    <tr>\n",
              "      <th>4359</th>\n",
              "      <td>13436.0</td>\n",
              "    </tr>\n",
              "    <tr>\n",
              "      <th>4360</th>\n",
              "      <td>15520.0</td>\n",
              "    </tr>\n",
              "    <tr>\n",
              "      <th>4361</th>\n",
              "      <td>13298.0</td>\n",
              "    </tr>\n",
              "    <tr>\n",
              "      <th>4362</th>\n",
              "      <td>14569.0</td>\n",
              "    </tr>\n",
              "    <tr>\n",
              "      <th>4363</th>\n",
              "      <td>12713.0</td>\n",
              "    </tr>\n",
              "  </tbody>\n",
              "</table>\n",
              "<p>4364 rows × 1 columns</p>\n",
              "</div>"
            ],
            "text/plain": [
              "      CustomerID\n",
              "0        17850.0\n",
              "1        13047.0\n",
              "2        12583.0\n",
              "3        13748.0\n",
              "4        15100.0\n",
              "...          ...\n",
              "4359     13436.0\n",
              "4360     15520.0\n",
              "4361     13298.0\n",
              "4362     14569.0\n",
              "4363     12713.0\n",
              "\n",
              "[4364 rows x 1 columns]"
            ]
          },
          "metadata": {},
          "execution_count": 122
        }
      ]
    },
    {
      "cell_type": "code",
      "metadata": {
        "id": "UG9jyPHpa-ng"
      },
      "source": [
        "#get the max purchase date for each customer and create a dataframe with it, then subtract recent purchase from max purchase date and merge it with df3\n",
        "max_purchase = df1.groupby('CustomerID').InvoiceDate.max().reset_index()\n",
        "max_purchase.columns = ['CustomerID','MaxPurchaseDate']\n",
        "max_purchase['Recency'] = (max_purchase['MaxPurchaseDate'].max() - max_purchase['MaxPurchaseDate']).dt.days\n",
        "\n",
        "#merge this dataframe to our new user dataframe\n",
        "df3 = pd.merge(df3, max_purchase[['CustomerID','Recency']], on='CustomerID')\n"
      ],
      "execution_count": 123,
      "outputs": []
    },
    {
      "cell_type": "code",
      "metadata": {
        "colab": {
          "base_uri": "https://localhost:8080/",
          "height": 290
        },
        "id": "uGA4kWs7bK3L",
        "outputId": "5debe4da-a727-4449-ac58-8f374eff28bf"
      },
      "source": [
        "# creating cluster\n",
        "sse={}\n",
        "recency = df3[['Recency']]\n",
        "for k in range(1, 10):\n",
        "    kmeans = KMeans(n_clusters=k, max_iter=1000).fit(recency)\n",
        "    recency[\"clusters\"] = kmeans.labels_\n",
        "    sse[k] = kmeans.inertia_ \n",
        "plt.figure()\n",
        "plt.plot(list(sse.keys()), list(sse.values()))\n",
        "plt.xlabel(\"Number of cluster\")\n",
        "plt.show()"
      ],
      "execution_count": 124,
      "outputs": [
        {
          "output_type": "display_data",
          "data": {
            "image/png": "[encoded data removed]",
            "text/plain": [
              "<Figure size 432x288 with 1 Axes>"
            ]
          },
          "metadata": {
            "needs_background": "light"
          }
        }
      ]
    },
    {
      "cell_type": "markdown",
      "metadata": {
        "id": "ChF9bBVkIG5i"
      },
      "source": [
        "***in above we have inertia in y axis and no of cluster in x axis. a good model is with low inertia and low cluster.therefore 3 is obvious choice***                                     \n",
        "****Inertia measures how well a dataset was clustered by K-Means. It is calculated by measuring the distance between each data point and its centroid, squaring this distance, and summing these squares across one cluster***"
      ]
    },
    {
      "cell_type": "code",
      "metadata": {
        "colab": {
          "base_uri": "https://localhost:8080/",
          "height": 419
        },
        "id": "k4BASW8_xX5C",
        "outputId": "1e192495-c7b9-4d0b-eaa0-3a20c5df87c3"
      },
      "source": [
        "#build 3 clusters for recency and add it to dataframe\n",
        "kmeans = KMeans(n_clusters=3)\n",
        "kmeans.fit(df3[['Recency']])\n",
        "df3['RecencyCluster'] = kmeans.predict(df3[['Recency']])\n",
        "\n",
        "#function for ordering cluster numbers\n",
        "def order_cluster(cluster_field_name, target_field_name,df,ascending):\n",
        "    new_cluster_field_name = 'new_' + cluster_field_name\n",
        "    df_new = df.groupby(cluster_field_name)[target_field_name].mean().reset_index()\n",
        "    df_new = df_new.sort_values(by=target_field_name,ascending=ascending).reset_index(drop=True)\n",
        "    df_new['index'] = df_new.index\n",
        "    df_final = pd.merge(df,df_new[[cluster_field_name,'index']], on=cluster_field_name)\n",
        "    df_final = df_final.drop([cluster_field_name],axis=1)\n",
        "    df_final = df_final.rename(columns={\"index\":cluster_field_name})\n",
        "    return df_final\n",
        "\n",
        "df3= order_cluster('RecencyCluster', 'Recency',df3,False)\n",
        "df3"
      ],
      "execution_count": 125,
      "outputs": [
        {
          "output_type": "execute_result",
          "data": {
            "text/html": [
              "<div>\n",
              "<style scoped>\n",
              "    .dataframe tbody tr th:only-of-type {\n",
              "        vertical-align: middle;\n",
              "    }\n",
              "\n",
              "    .dataframe tbody tr th {\n",
              "        vertical-align: top;\n",
              "    }\n",
              "\n",
              "    .dataframe thead th {\n",
              "        text-align: right;\n",
              "    }\n",
              "</style>\n",
              "<table border=\"1\" class=\"dataframe\">\n",
              "  <thead>\n",
              "    <tr style=\"text-align: right;\">\n",
              "      <th></th>\n",
              "      <th>CustomerID</th>\n",
              "      <th>Recency</th>\n",
              "      <th>RecencyCluster</th>\n",
              "    </tr>\n",
              "  </thead>\n",
              "  <tbody>\n",
              "    <tr>\n",
              "      <th>0</th>\n",
              "      <td>17850.0</td>\n",
              "      <td>301</td>\n",
              "      <td>0</td>\n",
              "    </tr>\n",
              "    <tr>\n",
              "      <th>1</th>\n",
              "      <td>15100.0</td>\n",
              "      <td>329</td>\n",
              "      <td>0</td>\n",
              "    </tr>\n",
              "    <tr>\n",
              "      <th>2</th>\n",
              "      <td>18074.0</td>\n",
              "      <td>373</td>\n",
              "      <td>0</td>\n",
              "    </tr>\n",
              "    <tr>\n",
              "      <th>3</th>\n",
              "      <td>16250.0</td>\n",
              "      <td>260</td>\n",
              "      <td>0</td>\n",
              "    </tr>\n",
              "    <tr>\n",
              "      <th>4</th>\n",
              "      <td>13747.0</td>\n",
              "      <td>373</td>\n",
              "      <td>0</td>\n",
              "    </tr>\n",
              "    <tr>\n",
              "      <th>...</th>\n",
              "      <td>...</td>\n",
              "      <td>...</td>\n",
              "      <td>...</td>\n",
              "    </tr>\n",
              "    <tr>\n",
              "      <th>4359</th>\n",
              "      <td>13889.0</td>\n",
              "      <td>92</td>\n",
              "      <td>1</td>\n",
              "    </tr>\n",
              "    <tr>\n",
              "      <th>4360</th>\n",
              "      <td>15488.0</td>\n",
              "      <td>92</td>\n",
              "      <td>1</td>\n",
              "    </tr>\n",
              "    <tr>\n",
              "      <th>4361</th>\n",
              "      <td>18222.0</td>\n",
              "      <td>92</td>\n",
              "      <td>1</td>\n",
              "    </tr>\n",
              "    <tr>\n",
              "      <th>4362</th>\n",
              "      <td>13244.0</td>\n",
              "      <td>92</td>\n",
              "      <td>1</td>\n",
              "    </tr>\n",
              "    <tr>\n",
              "      <th>4363</th>\n",
              "      <td>13441.0</td>\n",
              "      <td>91</td>\n",
              "      <td>1</td>\n",
              "    </tr>\n",
              "  </tbody>\n",
              "</table>\n",
              "<p>4364 rows × 3 columns</p>\n",
              "</div>"
            ],
            "text/plain": [
              "      CustomerID  Recency  RecencyCluster\n",
              "0        17850.0      301               0\n",
              "1        15100.0      329               0\n",
              "2        18074.0      373               0\n",
              "3        16250.0      260               0\n",
              "4        13747.0      373               0\n",
              "...          ...      ...             ...\n",
              "4359     13889.0       92               1\n",
              "4360     15488.0       92               1\n",
              "4361     18222.0       92               1\n",
              "4362     13244.0       92               1\n",
              "4363     13441.0       91               1\n",
              "\n",
              "[4364 rows x 3 columns]"
            ]
          },
          "metadata": {},
          "execution_count": 125
        }
      ]
    },
    {
      "cell_type": "code",
      "metadata": {
        "colab": {
          "base_uri": "https://localhost:8080/",
          "height": 419
        },
        "id": "8CqEi48dQsRw",
        "outputId": "df76a751-c1c9-4cc7-e418-55b3016e7cba"
      },
      "source": [
        "df3[df3['RecencyCluster']==2]"
      ],
      "execution_count": 126,
      "outputs": [
        {
          "output_type": "execute_result",
          "data": {
            "text/html": [
              "<div>\n",
              "<style scoped>\n",
              "    .dataframe tbody tr th:only-of-type {\n",
              "        vertical-align: middle;\n",
              "    }\n",
              "\n",
              "    .dataframe tbody tr th {\n",
              "        vertical-align: top;\n",
              "    }\n",
              "\n",
              "    .dataframe thead th {\n",
              "        text-align: right;\n",
              "    }\n",
              "</style>\n",
              "<table border=\"1\" class=\"dataframe\">\n",
              "  <thead>\n",
              "    <tr style=\"text-align: right;\">\n",
              "      <th></th>\n",
              "      <th>CustomerID</th>\n",
              "      <th>Recency</th>\n",
              "      <th>RecencyCluster</th>\n",
              "    </tr>\n",
              "  </thead>\n",
              "  <tbody>\n",
              "    <tr>\n",
              "      <th>634</th>\n",
              "      <td>13047.0</td>\n",
              "      <td>31</td>\n",
              "      <td>2</td>\n",
              "    </tr>\n",
              "    <tr>\n",
              "      <th>635</th>\n",
              "      <td>12583.0</td>\n",
              "      <td>2</td>\n",
              "      <td>2</td>\n",
              "    </tr>\n",
              "    <tr>\n",
              "      <th>636</th>\n",
              "      <td>15291.0</td>\n",
              "      <td>25</td>\n",
              "      <td>2</td>\n",
              "    </tr>\n",
              "    <tr>\n",
              "      <th>637</th>\n",
              "      <td>14688.0</td>\n",
              "      <td>7</td>\n",
              "      <td>2</td>\n",
              "    </tr>\n",
              "    <tr>\n",
              "      <th>638</th>\n",
              "      <td>17809.0</td>\n",
              "      <td>15</td>\n",
              "      <td>2</td>\n",
              "    </tr>\n",
              "    <tr>\n",
              "      <th>...</th>\n",
              "      <td>...</td>\n",
              "      <td>...</td>\n",
              "      <td>...</td>\n",
              "    </tr>\n",
              "    <tr>\n",
              "      <th>3544</th>\n",
              "      <td>13436.0</td>\n",
              "      <td>1</td>\n",
              "      <td>2</td>\n",
              "    </tr>\n",
              "    <tr>\n",
              "      <th>3545</th>\n",
              "      <td>15520.0</td>\n",
              "      <td>1</td>\n",
              "      <td>2</td>\n",
              "    </tr>\n",
              "    <tr>\n",
              "      <th>3546</th>\n",
              "      <td>13298.0</td>\n",
              "      <td>0</td>\n",
              "      <td>2</td>\n",
              "    </tr>\n",
              "    <tr>\n",
              "      <th>3547</th>\n",
              "      <td>14569.0</td>\n",
              "      <td>0</td>\n",
              "      <td>2</td>\n",
              "    </tr>\n",
              "    <tr>\n",
              "      <th>3548</th>\n",
              "      <td>12713.0</td>\n",
              "      <td>0</td>\n",
              "      <td>2</td>\n",
              "    </tr>\n",
              "  </tbody>\n",
              "</table>\n",
              "<p>2915 rows × 3 columns</p>\n",
              "</div>"
            ],
            "text/plain": [
              "      CustomerID  Recency  RecencyCluster\n",
              "634      13047.0       31               2\n",
              "635      12583.0        2               2\n",
              "636      15291.0       25               2\n",
              "637      14688.0        7               2\n",
              "638      17809.0       15               2\n",
              "...          ...      ...             ...\n",
              "3544     13436.0        1               2\n",
              "3545     15520.0        1               2\n",
              "3546     13298.0        0               2\n",
              "3547     14569.0        0               2\n",
              "3548     12713.0        0               2\n",
              "\n",
              "[2915 rows x 3 columns]"
            ]
          },
          "metadata": {},
          "execution_count": 126
        }
      ]
    },
    {
      "cell_type": "markdown",
      "metadata": {
        "id": "ztiwQ7cGUO_V"
      },
      "source": [
        "***2.calculating frequency and frequency cluster***"
      ]
    },
    {
      "cell_type": "code",
      "metadata": {
        "colab": {
          "base_uri": "https://localhost:8080/",
          "height": 419
        },
        "id": "eSkbKqL3Qx9s",
        "outputId": "92ebaed2-82ff-4e84-c7cf-3952adcbe0bd"
      },
      "source": [
        "#get order counts for each user and create a dataframe with it\n",
        "frequency = df1.groupby('CustomerID').InvoiceDate.count().reset_index()\n",
        "frequency.columns = ['CustomerID','Frequency']\n",
        "\n",
        "#add this data to our main dataframe\n",
        "df3 = pd.merge(df3, frequency, on='CustomerID')\n",
        "df3"
      ],
      "execution_count": 127,
      "outputs": [
        {
          "output_type": "execute_result",
          "data": {
            "text/html": [
              "<div>\n",
              "<style scoped>\n",
              "    .dataframe tbody tr th:only-of-type {\n",
              "        vertical-align: middle;\n",
              "    }\n",
              "\n",
              "    .dataframe tbody tr th {\n",
              "        vertical-align: top;\n",
              "    }\n",
              "\n",
              "    .dataframe thead th {\n",
              "        text-align: right;\n",
              "    }\n",
              "</style>\n",
              "<table border=\"1\" class=\"dataframe\">\n",
              "  <thead>\n",
              "    <tr style=\"text-align: right;\">\n",
              "      <th></th>\n",
              "      <th>CustomerID</th>\n",
              "      <th>Recency</th>\n",
              "      <th>RecencyCluster</th>\n",
              "      <th>Frequency</th>\n",
              "    </tr>\n",
              "  </thead>\n",
              "  <tbody>\n",
              "    <tr>\n",
              "      <th>0</th>\n",
              "      <td>17850.0</td>\n",
              "      <td>301</td>\n",
              "      <td>0</td>\n",
              "      <td>312</td>\n",
              "    </tr>\n",
              "    <tr>\n",
              "      <th>1</th>\n",
              "      <td>15100.0</td>\n",
              "      <td>329</td>\n",
              "      <td>0</td>\n",
              "      <td>6</td>\n",
              "    </tr>\n",
              "    <tr>\n",
              "      <th>2</th>\n",
              "      <td>18074.0</td>\n",
              "      <td>373</td>\n",
              "      <td>0</td>\n",
              "      <td>13</td>\n",
              "    </tr>\n",
              "    <tr>\n",
              "      <th>3</th>\n",
              "      <td>16250.0</td>\n",
              "      <td>260</td>\n",
              "      <td>0</td>\n",
              "      <td>24</td>\n",
              "    </tr>\n",
              "    <tr>\n",
              "      <th>4</th>\n",
              "      <td>13747.0</td>\n",
              "      <td>373</td>\n",
              "      <td>0</td>\n",
              "      <td>1</td>\n",
              "    </tr>\n",
              "    <tr>\n",
              "      <th>...</th>\n",
              "      <td>...</td>\n",
              "      <td>...</td>\n",
              "      <td>...</td>\n",
              "      <td>...</td>\n",
              "    </tr>\n",
              "    <tr>\n",
              "      <th>4359</th>\n",
              "      <td>13889.0</td>\n",
              "      <td>92</td>\n",
              "      <td>1</td>\n",
              "      <td>15</td>\n",
              "    </tr>\n",
              "    <tr>\n",
              "      <th>4360</th>\n",
              "      <td>15488.0</td>\n",
              "      <td>92</td>\n",
              "      <td>1</td>\n",
              "      <td>2</td>\n",
              "    </tr>\n",
              "    <tr>\n",
              "      <th>4361</th>\n",
              "      <td>18222.0</td>\n",
              "      <td>92</td>\n",
              "      <td>1</td>\n",
              "      <td>19</td>\n",
              "    </tr>\n",
              "    <tr>\n",
              "      <th>4362</th>\n",
              "      <td>13244.0</td>\n",
              "      <td>92</td>\n",
              "      <td>1</td>\n",
              "      <td>27</td>\n",
              "    </tr>\n",
              "    <tr>\n",
              "      <th>4363</th>\n",
              "      <td>13441.0</td>\n",
              "      <td>91</td>\n",
              "      <td>1</td>\n",
              "      <td>13</td>\n",
              "    </tr>\n",
              "  </tbody>\n",
              "</table>\n",
              "<p>4364 rows × 4 columns</p>\n",
              "</div>"
            ],
            "text/plain": [
              "      CustomerID  Recency  RecencyCluster  Frequency\n",
              "0        17850.0      301               0        312\n",
              "1        15100.0      329               0          6\n",
              "2        18074.0      373               0         13\n",
              "3        16250.0      260               0         24\n",
              "4        13747.0      373               0          1\n",
              "...          ...      ...             ...        ...\n",
              "4359     13889.0       92               1         15\n",
              "4360     15488.0       92               1          2\n",
              "4361     18222.0       92               1         19\n",
              "4362     13244.0       92               1         27\n",
              "4363     13441.0       91               1         13\n",
              "\n",
              "[4364 rows x 4 columns]"
            ]
          },
          "metadata": {},
          "execution_count": 127
        }
      ]
    },
    {
      "cell_type": "code",
      "metadata": {
        "id": "cAFyr_wUUeQ9"
      },
      "source": [
        "## predicting frequency cluster and using previsous function to order them\n",
        "kmeans = KMeans(n_clusters=3)\n",
        "kmeans.fit(df3[['Frequency']])\n",
        "df3['FrequencyCluster'] = kmeans.predict(df3[['Frequency']])\n",
        "\n",
        "#order the frequency cluster\n",
        "df3 = order_cluster('FrequencyCluster', 'Frequency',df3,True)"
      ],
      "execution_count": 128,
      "outputs": []
    },
    {
      "cell_type": "code",
      "metadata": {
        "colab": {
          "base_uri": "https://localhost:8080/",
          "height": 419
        },
        "id": "GEDfTKneXRG8",
        "outputId": "57cb2685-9893-4001-8061-64447b55ede1"
      },
      "source": [
        "df3"
      ],
      "execution_count": 129,
      "outputs": [
        {
          "output_type": "execute_result",
          "data": {
            "text/html": [
              "<div>\n",
              "<style scoped>\n",
              "    .dataframe tbody tr th:only-of-type {\n",
              "        vertical-align: middle;\n",
              "    }\n",
              "\n",
              "    .dataframe tbody tr th {\n",
              "        vertical-align: top;\n",
              "    }\n",
              "\n",
              "    .dataframe thead th {\n",
              "        text-align: right;\n",
              "    }\n",
              "</style>\n",
              "<table border=\"1\" class=\"dataframe\">\n",
              "  <thead>\n",
              "    <tr style=\"text-align: right;\">\n",
              "      <th></th>\n",
              "      <th>CustomerID</th>\n",
              "      <th>Recency</th>\n",
              "      <th>RecencyCluster</th>\n",
              "      <th>Frequency</th>\n",
              "      <th>FrequencyCluster</th>\n",
              "    </tr>\n",
              "  </thead>\n",
              "  <tbody>\n",
              "    <tr>\n",
              "      <th>0</th>\n",
              "      <td>17850.0</td>\n",
              "      <td>301</td>\n",
              "      <td>0</td>\n",
              "      <td>312</td>\n",
              "      <td>1</td>\n",
              "    </tr>\n",
              "    <tr>\n",
              "      <th>1</th>\n",
              "      <td>14688.0</td>\n",
              "      <td>7</td>\n",
              "      <td>2</td>\n",
              "      <td>359</td>\n",
              "      <td>1</td>\n",
              "    </tr>\n",
              "    <tr>\n",
              "      <th>2</th>\n",
              "      <td>15311.0</td>\n",
              "      <td>0</td>\n",
              "      <td>2</td>\n",
              "      <td>2491</td>\n",
              "      <td>1</td>\n",
              "    </tr>\n",
              "    <tr>\n",
              "      <th>3</th>\n",
              "      <td>14527.0</td>\n",
              "      <td>2</td>\n",
              "      <td>2</td>\n",
              "      <td>1011</td>\n",
              "      <td>1</td>\n",
              "    </tr>\n",
              "    <tr>\n",
              "      <th>4</th>\n",
              "      <td>17511.0</td>\n",
              "      <td>2</td>\n",
              "      <td>2</td>\n",
              "      <td>1076</td>\n",
              "      <td>1</td>\n",
              "    </tr>\n",
              "    <tr>\n",
              "      <th>...</th>\n",
              "      <td>...</td>\n",
              "      <td>...</td>\n",
              "      <td>...</td>\n",
              "      <td>...</td>\n",
              "      <td>...</td>\n",
              "    </tr>\n",
              "    <tr>\n",
              "      <th>4359</th>\n",
              "      <td>13441.0</td>\n",
              "      <td>91</td>\n",
              "      <td>1</td>\n",
              "      <td>13</td>\n",
              "      <td>0</td>\n",
              "    </tr>\n",
              "    <tr>\n",
              "      <th>4360</th>\n",
              "      <td>12748.0</td>\n",
              "      <td>0</td>\n",
              "      <td>2</td>\n",
              "      <td>4642</td>\n",
              "      <td>2</td>\n",
              "    </tr>\n",
              "    <tr>\n",
              "      <th>4361</th>\n",
              "      <td>14911.0</td>\n",
              "      <td>0</td>\n",
              "      <td>2</td>\n",
              "      <td>5903</td>\n",
              "      <td>2</td>\n",
              "    </tr>\n",
              "    <tr>\n",
              "      <th>4362</th>\n",
              "      <td>17841.0</td>\n",
              "      <td>1</td>\n",
              "      <td>2</td>\n",
              "      <td>7983</td>\n",
              "      <td>2</td>\n",
              "    </tr>\n",
              "    <tr>\n",
              "      <th>4363</th>\n",
              "      <td>14096.0</td>\n",
              "      <td>3</td>\n",
              "      <td>2</td>\n",
              "      <td>5128</td>\n",
              "      <td>2</td>\n",
              "    </tr>\n",
              "  </tbody>\n",
              "</table>\n",
              "<p>4364 rows × 5 columns</p>\n",
              "</div>"
            ],
            "text/plain": [
              "      CustomerID  Recency  RecencyCluster  Frequency  FrequencyCluster\n",
              "0        17850.0      301               0        312                 1\n",
              "1        14688.0        7               2        359                 1\n",
              "2        15311.0        0               2       2491                 1\n",
              "3        14527.0        2               2       1011                 1\n",
              "4        17511.0        2               2       1076                 1\n",
              "...          ...      ...             ...        ...               ...\n",
              "4359     13441.0       91               1         13                 0\n",
              "4360     12748.0        0               2       4642                 2\n",
              "4361     14911.0        0               2       5903                 2\n",
              "4362     17841.0        1               2       7983                 2\n",
              "4363     14096.0        3               2       5128                 2\n",
              "\n",
              "[4364 rows x 5 columns]"
            ]
          },
          "metadata": {},
          "execution_count": 129
        }
      ]
    },
    {
      "cell_type": "markdown",
      "metadata": {
        "id": "Fk-qQJ1hYCdN"
      },
      "source": [
        "***3. calculating revenue and revenue cluster, please note i have already calculated revenue before***"
      ]
    },
    {
      "cell_type": "code",
      "metadata": {
        "id": "Gf-cXDTLXSaL"
      },
      "source": [
        "revenue = df1.groupby('CustomerID').revenue.sum().reset_index()\n",
        "df3 = pd.merge(df3, revenue, on='CustomerID')"
      ],
      "execution_count": 130,
      "outputs": []
    },
    {
      "cell_type": "code",
      "metadata": {
        "colab": {
          "base_uri": "https://localhost:8080/",
          "height": 419
        },
        "id": "cSBHzwqXYs8Y",
        "outputId": "88714456-55ee-47ab-b75d-34a8439d047e"
      },
      "source": [
        "df3"
      ],
      "execution_count": 131,
      "outputs": [
        {
          "output_type": "execute_result",
          "data": {
            "text/html": [
              "<div>\n",
              "<style scoped>\n",
              "    .dataframe tbody tr th:only-of-type {\n",
              "        vertical-align: middle;\n",
              "    }\n",
              "\n",
              "    .dataframe tbody tr th {\n",
              "        vertical-align: top;\n",
              "    }\n",
              "\n",
              "    .dataframe thead th {\n",
              "        text-align: right;\n",
              "    }\n",
              "</style>\n",
              "<table border=\"1\" class=\"dataframe\">\n",
              "  <thead>\n",
              "    <tr style=\"text-align: right;\">\n",
              "      <th></th>\n",
              "      <th>CustomerID</th>\n",
              "      <th>Recency</th>\n",
              "      <th>RecencyCluster</th>\n",
              "      <th>Frequency</th>\n",
              "      <th>FrequencyCluster</th>\n",
              "      <th>revenue</th>\n",
              "    </tr>\n",
              "  </thead>\n",
              "  <tbody>\n",
              "    <tr>\n",
              "      <th>0</th>\n",
              "      <td>17850.0</td>\n",
              "      <td>301</td>\n",
              "      <td>0</td>\n",
              "      <td>312</td>\n",
              "      <td>1</td>\n",
              "      <td>5288.63</td>\n",
              "    </tr>\n",
              "    <tr>\n",
              "      <th>1</th>\n",
              "      <td>14688.0</td>\n",
              "      <td>7</td>\n",
              "      <td>2</td>\n",
              "      <td>359</td>\n",
              "      <td>1</td>\n",
              "      <td>5107.38</td>\n",
              "    </tr>\n",
              "    <tr>\n",
              "      <th>2</th>\n",
              "      <td>15311.0</td>\n",
              "      <td>0</td>\n",
              "      <td>2</td>\n",
              "      <td>2491</td>\n",
              "      <td>1</td>\n",
              "      <td>59419.34</td>\n",
              "    </tr>\n",
              "    <tr>\n",
              "      <th>3</th>\n",
              "      <td>14527.0</td>\n",
              "      <td>2</td>\n",
              "      <td>2</td>\n",
              "      <td>1011</td>\n",
              "      <td>1</td>\n",
              "      <td>7711.38</td>\n",
              "    </tr>\n",
              "    <tr>\n",
              "      <th>4</th>\n",
              "      <td>17511.0</td>\n",
              "      <td>2</td>\n",
              "      <td>2</td>\n",
              "      <td>1076</td>\n",
              "      <td>1</td>\n",
              "      <td>88125.38</td>\n",
              "    </tr>\n",
              "    <tr>\n",
              "      <th>...</th>\n",
              "      <td>...</td>\n",
              "      <td>...</td>\n",
              "      <td>...</td>\n",
              "      <td>...</td>\n",
              "      <td>...</td>\n",
              "      <td>...</td>\n",
              "    </tr>\n",
              "    <tr>\n",
              "      <th>4359</th>\n",
              "      <td>13441.0</td>\n",
              "      <td>91</td>\n",
              "      <td>1</td>\n",
              "      <td>13</td>\n",
              "      <td>0</td>\n",
              "      <td>296.64</td>\n",
              "    </tr>\n",
              "    <tr>\n",
              "      <th>4360</th>\n",
              "      <td>12748.0</td>\n",
              "      <td>0</td>\n",
              "      <td>2</td>\n",
              "      <td>4642</td>\n",
              "      <td>2</td>\n",
              "      <td>29072.10</td>\n",
              "    </tr>\n",
              "    <tr>\n",
              "      <th>4361</th>\n",
              "      <td>14911.0</td>\n",
              "      <td>0</td>\n",
              "      <td>2</td>\n",
              "      <td>5903</td>\n",
              "      <td>2</td>\n",
              "      <td>132572.62</td>\n",
              "    </tr>\n",
              "    <tr>\n",
              "      <th>4362</th>\n",
              "      <td>17841.0</td>\n",
              "      <td>1</td>\n",
              "      <td>2</td>\n",
              "      <td>7983</td>\n",
              "      <td>2</td>\n",
              "      <td>40340.78</td>\n",
              "    </tr>\n",
              "    <tr>\n",
              "      <th>4363</th>\n",
              "      <td>14096.0</td>\n",
              "      <td>3</td>\n",
              "      <td>2</td>\n",
              "      <td>5128</td>\n",
              "      <td>2</td>\n",
              "      <td>57120.91</td>\n",
              "    </tr>\n",
              "  </tbody>\n",
              "</table>\n",
              "<p>4364 rows × 6 columns</p>\n",
              "</div>"
            ],
            "text/plain": [
              "      CustomerID  Recency  ...  FrequencyCluster    revenue\n",
              "0        17850.0      301  ...                 1    5288.63\n",
              "1        14688.0        7  ...                 1    5107.38\n",
              "2        15311.0        0  ...                 1   59419.34\n",
              "3        14527.0        2  ...                 1    7711.38\n",
              "4        17511.0        2  ...                 1   88125.38\n",
              "...          ...      ...  ...               ...        ...\n",
              "4359     13441.0       91  ...                 0     296.64\n",
              "4360     12748.0        0  ...                 2   29072.10\n",
              "4361     14911.0        0  ...                 2  132572.62\n",
              "4362     17841.0        1  ...                 2   40340.78\n",
              "4363     14096.0        3  ...                 2   57120.91\n",
              "\n",
              "[4364 rows x 6 columns]"
            ]
          },
          "metadata": {},
          "execution_count": 131
        }
      ]
    },
    {
      "cell_type": "code",
      "metadata": {
        "colab": {
          "base_uri": "https://localhost:8080/",
          "height": 419
        },
        "id": "_XLUXFDnYh5I",
        "outputId": "d82a6d61-06f1-4a2b-bd45-77b2e2aa1933"
      },
      "source": [
        "#predicting revenue cluster and using previsous function to order them\n",
        "kmeans = KMeans(n_clusters=3)\n",
        "kmeans.fit(df3[['revenue']])\n",
        "df3['RevenueCluster'] = kmeans.predict(df3[['revenue']])\n",
        "\n",
        "\n",
        "#order the cluster numbers\n",
        "df3 = order_cluster('RevenueCluster', 'revenue',df3,True)\n",
        "df3"
      ],
      "execution_count": 132,
      "outputs": [
        {
          "output_type": "execute_result",
          "data": {
            "text/html": [
              "<div>\n",
              "<style scoped>\n",
              "    .dataframe tbody tr th:only-of-type {\n",
              "        vertical-align: middle;\n",
              "    }\n",
              "\n",
              "    .dataframe tbody tr th {\n",
              "        vertical-align: top;\n",
              "    }\n",
              "\n",
              "    .dataframe thead th {\n",
              "        text-align: right;\n",
              "    }\n",
              "</style>\n",
              "<table border=\"1\" class=\"dataframe\">\n",
              "  <thead>\n",
              "    <tr style=\"text-align: right;\">\n",
              "      <th></th>\n",
              "      <th>CustomerID</th>\n",
              "      <th>Recency</th>\n",
              "      <th>RecencyCluster</th>\n",
              "      <th>Frequency</th>\n",
              "      <th>FrequencyCluster</th>\n",
              "      <th>revenue</th>\n",
              "      <th>RevenueCluster</th>\n",
              "    </tr>\n",
              "  </thead>\n",
              "  <tbody>\n",
              "    <tr>\n",
              "      <th>0</th>\n",
              "      <td>17850.0</td>\n",
              "      <td>301</td>\n",
              "      <td>0</td>\n",
              "      <td>312</td>\n",
              "      <td>1</td>\n",
              "      <td>5288.63</td>\n",
              "      <td>0</td>\n",
              "    </tr>\n",
              "    <tr>\n",
              "      <th>1</th>\n",
              "      <td>14688.0</td>\n",
              "      <td>7</td>\n",
              "      <td>2</td>\n",
              "      <td>359</td>\n",
              "      <td>1</td>\n",
              "      <td>5107.38</td>\n",
              "      <td>0</td>\n",
              "    </tr>\n",
              "    <tr>\n",
              "      <th>2</th>\n",
              "      <td>14527.0</td>\n",
              "      <td>2</td>\n",
              "      <td>2</td>\n",
              "      <td>1011</td>\n",
              "      <td>1</td>\n",
              "      <td>7711.38</td>\n",
              "      <td>0</td>\n",
              "    </tr>\n",
              "    <tr>\n",
              "      <th>3</th>\n",
              "      <td>13408.0</td>\n",
              "      <td>1</td>\n",
              "      <td>2</td>\n",
              "      <td>501</td>\n",
              "      <td>1</td>\n",
              "      <td>27487.41</td>\n",
              "      <td>0</td>\n",
              "    </tr>\n",
              "    <tr>\n",
              "      <th>4</th>\n",
              "      <td>13767.0</td>\n",
              "      <td>1</td>\n",
              "      <td>2</td>\n",
              "      <td>399</td>\n",
              "      <td>1</td>\n",
              "      <td>16945.71</td>\n",
              "      <td>0</td>\n",
              "    </tr>\n",
              "    <tr>\n",
              "      <th>...</th>\n",
              "      <td>...</td>\n",
              "      <td>...</td>\n",
              "      <td>...</td>\n",
              "      <td>...</td>\n",
              "      <td>...</td>\n",
              "      <td>...</td>\n",
              "      <td>...</td>\n",
              "    </tr>\n",
              "    <tr>\n",
              "      <th>4359</th>\n",
              "      <td>17841.0</td>\n",
              "      <td>1</td>\n",
              "      <td>2</td>\n",
              "      <td>7983</td>\n",
              "      <td>2</td>\n",
              "      <td>40340.78</td>\n",
              "      <td>1</td>\n",
              "    </tr>\n",
              "    <tr>\n",
              "      <th>4360</th>\n",
              "      <td>14096.0</td>\n",
              "      <td>3</td>\n",
              "      <td>2</td>\n",
              "      <td>5128</td>\n",
              "      <td>2</td>\n",
              "      <td>57120.91</td>\n",
              "      <td>1</td>\n",
              "    </tr>\n",
              "    <tr>\n",
              "      <th>4361</th>\n",
              "      <td>17450.0</td>\n",
              "      <td>7</td>\n",
              "      <td>2</td>\n",
              "      <td>351</td>\n",
              "      <td>1</td>\n",
              "      <td>187482.17</td>\n",
              "      <td>2</td>\n",
              "    </tr>\n",
              "    <tr>\n",
              "      <th>4362</th>\n",
              "      <td>18102.0</td>\n",
              "      <td>0</td>\n",
              "      <td>2</td>\n",
              "      <td>433</td>\n",
              "      <td>1</td>\n",
              "      <td>256438.49</td>\n",
              "      <td>2</td>\n",
              "    </tr>\n",
              "    <tr>\n",
              "      <th>4363</th>\n",
              "      <td>14646.0</td>\n",
              "      <td>1</td>\n",
              "      <td>2</td>\n",
              "      <td>2085</td>\n",
              "      <td>1</td>\n",
              "      <td>279489.02</td>\n",
              "      <td>2</td>\n",
              "    </tr>\n",
              "  </tbody>\n",
              "</table>\n",
              "<p>4364 rows × 7 columns</p>\n",
              "</div>"
            ],
            "text/plain": [
              "      CustomerID  Recency  ...    revenue  RevenueCluster\n",
              "0        17850.0      301  ...    5288.63               0\n",
              "1        14688.0        7  ...    5107.38               0\n",
              "2        14527.0        2  ...    7711.38               0\n",
              "3        13408.0        1  ...   27487.41               0\n",
              "4        13767.0        1  ...   16945.71               0\n",
              "...          ...      ...  ...        ...             ...\n",
              "4359     17841.0        1  ...   40340.78               1\n",
              "4360     14096.0        3  ...   57120.91               1\n",
              "4361     17450.0        7  ...  187482.17               2\n",
              "4362     18102.0        0  ...  256438.49               2\n",
              "4363     14646.0        1  ...  279489.02               2\n",
              "\n",
              "[4364 rows x 7 columns]"
            ]
          },
          "metadata": {},
          "execution_count": 132
        }
      ]
    },
    {
      "cell_type": "code",
      "metadata": {
        "id": "L1xy6uSJY2XU"
      },
      "source": [
        ""
      ],
      "execution_count": 132,
      "outputs": []
    },
    {
      "cell_type": "markdown",
      "metadata": {
        "id": "9u5-pid3fVCw"
      },
      "source": [
        "*** let us understand what cluster with 0,1,2 mean***"
      ]
    },
    {
      "cell_type": "code",
      "metadata": {
        "colab": {
          "base_uri": "https://localhost:8080/",
          "height": 173
        },
        "id": "PsVf9u0XfkU4",
        "outputId": "e61bb2c1-ebad-4f06-a7f0-086568da200d"
      },
      "source": [
        "#for recency\n",
        "df3.groupby('RecencyCluster')['Recency'].describe()\n",
        "### we can notice that for cluster 0 we have mean 294 whereas 2 has mean 24. this shows that cluster 0 has most inactive persons\n",
        "### and cluster 2 has the most active people"
      ],
      "execution_count": 133,
      "outputs": [
        {
          "output_type": "execute_result",
          "data": {
            "text/html": [
              "<div>\n",
              "<style scoped>\n",
              "    .dataframe tbody tr th:only-of-type {\n",
              "        vertical-align: middle;\n",
              "    }\n",
              "\n",
              "    .dataframe tbody tr th {\n",
              "        vertical-align: top;\n",
              "    }\n",
              "\n",
              "    .dataframe thead th {\n",
              "        text-align: right;\n",
              "    }\n",
              "</style>\n",
              "<table border=\"1\" class=\"dataframe\">\n",
              "  <thead>\n",
              "    <tr style=\"text-align: right;\">\n",
              "      <th></th>\n",
              "      <th>count</th>\n",
              "      <th>mean</th>\n",
              "      <th>std</th>\n",
              "      <th>min</th>\n",
              "      <th>25%</th>\n",
              "      <th>50%</th>\n",
              "      <th>75%</th>\n",
              "      <th>max</th>\n",
              "    </tr>\n",
              "    <tr>\n",
              "      <th>RecencyCluster</th>\n",
              "      <th></th>\n",
              "      <th></th>\n",
              "      <th></th>\n",
              "      <th></th>\n",
              "      <th></th>\n",
              "      <th></th>\n",
              "      <th></th>\n",
              "      <th></th>\n",
              "    </tr>\n",
              "  </thead>\n",
              "  <tbody>\n",
              "    <tr>\n",
              "      <th>0</th>\n",
              "      <td>634.0</td>\n",
              "      <td>294.372240</td>\n",
              "      <td>45.419375</td>\n",
              "      <td>224.0</td>\n",
              "      <td>256.0</td>\n",
              "      <td>287.0</td>\n",
              "      <td>329.0</td>\n",
              "      <td>373.0</td>\n",
              "    </tr>\n",
              "    <tr>\n",
              "      <th>1</th>\n",
              "      <td>815.0</td>\n",
              "      <td>151.602454</td>\n",
              "      <td>38.467083</td>\n",
              "      <td>91.0</td>\n",
              "      <td>116.0</td>\n",
              "      <td>150.0</td>\n",
              "      <td>184.0</td>\n",
              "      <td>222.0</td>\n",
              "    </tr>\n",
              "    <tr>\n",
              "      <th>2</th>\n",
              "      <td>2915.0</td>\n",
              "      <td>30.013036</td>\n",
              "      <td>24.796685</td>\n",
              "      <td>0.0</td>\n",
              "      <td>8.5</td>\n",
              "      <td>23.0</td>\n",
              "      <td>49.0</td>\n",
              "      <td>90.0</td>\n",
              "    </tr>\n",
              "  </tbody>\n",
              "</table>\n",
              "</div>"
            ],
            "text/plain": [
              "                 count        mean        std  ...    50%    75%    max\n",
              "RecencyCluster                                 ...                     \n",
              "0                634.0  294.372240  45.419375  ...  287.0  329.0  373.0\n",
              "1                815.0  151.602454  38.467083  ...  150.0  184.0  222.0\n",
              "2               2915.0   30.013036  24.796685  ...   23.0   49.0   90.0\n",
              "\n",
              "[3 rows x 8 columns]"
            ]
          },
          "metadata": {},
          "execution_count": 133
        }
      ]
    },
    {
      "cell_type": "code",
      "metadata": {
        "colab": {
          "base_uri": "https://localhost:8080/",
          "height": 173
        },
        "id": "uKa7DILFf4Ns",
        "outputId": "b05a53e5-bc29-44ad-a2fc-34916421e80c"
      },
      "source": [
        "#for frequency\n",
        "df3.groupby('FrequencyCluster')['Frequency'].describe()\n",
        "### we can notice that for cluster 0 we have mean 60 whereas 2 has mean 5914. \n",
        "## this shows that people in cluster 0 do not buy much item, where as people in cluster 2 buys very often"
      ],
      "execution_count": 134,
      "outputs": [
        {
          "output_type": "execute_result",
          "data": {
            "text/html": [
              "<div>\n",
              "<style scoped>\n",
              "    .dataframe tbody tr th:only-of-type {\n",
              "        vertical-align: middle;\n",
              "    }\n",
              "\n",
              "    .dataframe tbody tr th {\n",
              "        vertical-align: top;\n",
              "    }\n",
              "\n",
              "    .dataframe thead th {\n",
              "        text-align: right;\n",
              "    }\n",
              "</style>\n",
              "<table border=\"1\" class=\"dataframe\">\n",
              "  <thead>\n",
              "    <tr style=\"text-align: right;\">\n",
              "      <th></th>\n",
              "      <th>count</th>\n",
              "      <th>mean</th>\n",
              "      <th>std</th>\n",
              "      <th>min</th>\n",
              "      <th>25%</th>\n",
              "      <th>50%</th>\n",
              "      <th>75%</th>\n",
              "      <th>max</th>\n",
              "    </tr>\n",
              "    <tr>\n",
              "      <th>FrequencyCluster</th>\n",
              "      <th></th>\n",
              "      <th></th>\n",
              "      <th></th>\n",
              "      <th></th>\n",
              "      <th></th>\n",
              "      <th></th>\n",
              "      <th></th>\n",
              "      <th></th>\n",
              "    </tr>\n",
              "  </thead>\n",
              "  <tbody>\n",
              "    <tr>\n",
              "      <th>0</th>\n",
              "      <td>4100.0</td>\n",
              "      <td>60.586098</td>\n",
              "      <td>61.711447</td>\n",
              "      <td>1.0</td>\n",
              "      <td>16.00</td>\n",
              "      <td>37.0</td>\n",
              "      <td>86.00</td>\n",
              "      <td>287.0</td>\n",
              "    </tr>\n",
              "    <tr>\n",
              "      <th>1</th>\n",
              "      <td>260.0</td>\n",
              "      <td>514.784615</td>\n",
              "      <td>328.508904</td>\n",
              "      <td>289.0</td>\n",
              "      <td>336.75</td>\n",
              "      <td>414.0</td>\n",
              "      <td>547.25</td>\n",
              "      <td>2782.0</td>\n",
              "    </tr>\n",
              "    <tr>\n",
              "      <th>2</th>\n",
              "      <td>4.0</td>\n",
              "      <td>5914.000000</td>\n",
              "      <td>1473.845537</td>\n",
              "      <td>4642.0</td>\n",
              "      <td>5006.50</td>\n",
              "      <td>5515.5</td>\n",
              "      <td>6423.00</td>\n",
              "      <td>7983.0</td>\n",
              "    </tr>\n",
              "  </tbody>\n",
              "</table>\n",
              "</div>"
            ],
            "text/plain": [
              "                   count         mean          std  ...     50%      75%     max\n",
              "FrequencyCluster                                    ...                         \n",
              "0                 4100.0    60.586098    61.711447  ...    37.0    86.00   287.0\n",
              "1                  260.0   514.784615   328.508904  ...   414.0   547.25  2782.0\n",
              "2                    4.0  5914.000000  1473.845537  ...  5515.5  6423.00  7983.0\n",
              "\n",
              "[3 rows x 8 columns]"
            ]
          },
          "metadata": {},
          "execution_count": 134
        }
      ]
    },
    {
      "cell_type": "code",
      "metadata": {
        "colab": {
          "base_uri": "https://localhost:8080/",
          "height": 173
        },
        "id": "e-qPoYYchR3w",
        "outputId": "e567cae4-d0d9-41aa-82c0-15563174b02a"
      },
      "source": [
        "#for frequency\n",
        "df3.groupby('RevenueCluster')['revenue'].describe()\n",
        "### we can notice that for cluster 0 we have mean 1431 whereas 2 has mean 241136. \n",
        "## this shows that people in cluster 0 do not bring high revenue, where as people in cluster 2 bring high revenue."
      ],
      "execution_count": 135,
      "outputs": [
        {
          "output_type": "execute_result",
          "data": {
            "text/html": [
              "<div>\n",
              "<style scoped>\n",
              "    .dataframe tbody tr th:only-of-type {\n",
              "        vertical-align: middle;\n",
              "    }\n",
              "\n",
              "    .dataframe tbody tr th {\n",
              "        vertical-align: top;\n",
              "    }\n",
              "\n",
              "    .dataframe thead th {\n",
              "        text-align: right;\n",
              "    }\n",
              "</style>\n",
              "<table border=\"1\" class=\"dataframe\">\n",
              "  <thead>\n",
              "    <tr style=\"text-align: right;\">\n",
              "      <th></th>\n",
              "      <th>count</th>\n",
              "      <th>mean</th>\n",
              "      <th>std</th>\n",
              "      <th>min</th>\n",
              "      <th>25%</th>\n",
              "      <th>50%</th>\n",
              "      <th>75%</th>\n",
              "      <th>max</th>\n",
              "    </tr>\n",
              "    <tr>\n",
              "      <th>RevenueCluster</th>\n",
              "      <th></th>\n",
              "      <th></th>\n",
              "      <th></th>\n",
              "      <th></th>\n",
              "      <th></th>\n",
              "      <th></th>\n",
              "      <th></th>\n",
              "      <th></th>\n",
              "    </tr>\n",
              "  </thead>\n",
              "  <tbody>\n",
              "    <tr>\n",
              "      <th>0</th>\n",
              "      <td>4339.0</td>\n",
              "      <td>1438.021121</td>\n",
              "      <td>2473.840726</td>\n",
              "      <td>-4287.63</td>\n",
              "      <td>291.475</td>\n",
              "      <td>642.02</td>\n",
              "      <td>1562.170</td>\n",
              "      <td>30300.82</td>\n",
              "    </tr>\n",
              "    <tr>\n",
              "      <th>1</th>\n",
              "      <td>22.0</td>\n",
              "      <td>59696.842273</td>\n",
              "      <td>29287.039236</td>\n",
              "      <td>31300.08</td>\n",
              "      <td>37348.760</td>\n",
              "      <td>52287.28</td>\n",
              "      <td>61844.660</td>\n",
              "      <td>132572.62</td>\n",
              "    </tr>\n",
              "    <tr>\n",
              "      <th>2</th>\n",
              "      <td>3.0</td>\n",
              "      <td>241136.560000</td>\n",
              "      <td>47874.073443</td>\n",
              "      <td>187482.17</td>\n",
              "      <td>221960.330</td>\n",
              "      <td>256438.49</td>\n",
              "      <td>267963.755</td>\n",
              "      <td>279489.02</td>\n",
              "    </tr>\n",
              "  </tbody>\n",
              "</table>\n",
              "</div>"
            ],
            "text/plain": [
              "                 count           mean  ...         75%        max\n",
              "RevenueCluster                         ...                       \n",
              "0               4339.0    1438.021121  ...    1562.170   30300.82\n",
              "1                 22.0   59696.842273  ...   61844.660  132572.62\n",
              "2                  3.0  241136.560000  ...  267963.755  279489.02\n",
              "\n",
              "[3 rows x 8 columns]"
            ]
          },
          "metadata": {},
          "execution_count": 135
        }
      ]
    },
    {
      "cell_type": "markdown",
      "metadata": {
        "id": "QItwMkqvieoQ"
      },
      "source": [
        "**now its time to calculate overall score for the customers**                  \n",
        "***overall score can be calculated by adding all the cluster***"
      ]
    },
    {
      "cell_type": "code",
      "metadata": {
        "colab": {
          "base_uri": "https://localhost:8080/",
          "height": 334
        },
        "id": "Desstxyph-E9",
        "outputId": "ef6a14eb-47d6-483c-8855-c54a6f0ef102"
      },
      "source": [
        "df3['OverallScore'] = df3['RecencyCluster'] + df3['FrequencyCluster'] + df3['RevenueCluster']\n",
        "df3.groupby('OverallScore')['Recency','Frequency','revenue'].mean()"
      ],
      "execution_count": 136,
      "outputs": [
        {
          "output_type": "stream",
          "name": "stderr",
          "text": [
            "/usr/local/lib/python3.7/dist-packages/ipykernel_launcher.py:2: FutureWarning:\n",
            "\n",
            "Indexing with multiple keys (implicitly converted to a tuple of keys) will be deprecated, use a list instead.\n",
            "\n"
          ]
        },
        {
          "output_type": "execute_result",
          "data": {
            "text/html": [
              "<div>\n",
              "<style scoped>\n",
              "    .dataframe tbody tr th:only-of-type {\n",
              "        vertical-align: middle;\n",
              "    }\n",
              "\n",
              "    .dataframe tbody tr th {\n",
              "        vertical-align: top;\n",
              "    }\n",
              "\n",
              "    .dataframe thead th {\n",
              "        text-align: right;\n",
              "    }\n",
              "</style>\n",
              "<table border=\"1\" class=\"dataframe\">\n",
              "  <thead>\n",
              "    <tr style=\"text-align: right;\">\n",
              "      <th></th>\n",
              "      <th>Recency</th>\n",
              "      <th>Frequency</th>\n",
              "      <th>revenue</th>\n",
              "    </tr>\n",
              "    <tr>\n",
              "      <th>OverallScore</th>\n",
              "      <th></th>\n",
              "      <th></th>\n",
              "      <th></th>\n",
              "    </tr>\n",
              "  </thead>\n",
              "  <tbody>\n",
              "    <tr>\n",
              "      <th>0</th>\n",
              "      <td>294.361769</td>\n",
              "      <td>22.946288</td>\n",
              "      <td>397.188167</td>\n",
              "    </tr>\n",
              "    <tr>\n",
              "      <th>1</th>\n",
              "      <td>151.890394</td>\n",
              "      <td>39.498768</td>\n",
              "      <td>702.212058</td>\n",
              "    </tr>\n",
              "    <tr>\n",
              "      <th>2</th>\n",
              "      <td>31.924585</td>\n",
              "      <td>76.239819</td>\n",
              "      <td>1459.952569</td>\n",
              "    </tr>\n",
              "    <tr>\n",
              "      <th>3</th>\n",
              "      <td>13.112450</td>\n",
              "      <td>477.538153</td>\n",
              "      <td>7510.161365</td>\n",
              "    </tr>\n",
              "    <tr>\n",
              "      <th>4</th>\n",
              "      <td>5.750000</td>\n",
              "      <td>1360.583333</td>\n",
              "      <td>63285.764167</td>\n",
              "    </tr>\n",
              "    <tr>\n",
              "      <th>5</th>\n",
              "      <td>2.000000</td>\n",
              "      <td>3647.166667</td>\n",
              "      <td>158907.331667</td>\n",
              "    </tr>\n",
              "  </tbody>\n",
              "</table>\n",
              "</div>"
            ],
            "text/plain": [
              "                 Recency    Frequency        revenue\n",
              "OverallScore                                        \n",
              "0             294.361769    22.946288     397.188167\n",
              "1             151.890394    39.498768     702.212058\n",
              "2              31.924585    76.239819    1459.952569\n",
              "3              13.112450   477.538153    7510.161365\n",
              "4               5.750000  1360.583333   63285.764167\n",
              "5               2.000000  3647.166667  158907.331667"
            ]
          },
          "metadata": {},
          "execution_count": 136
        }
      ]
    },
    {
      "cell_type": "markdown",
      "metadata": {
        "id": "eQUUlN96pT5U"
      },
      "source": [
        "***in above we can see that overall score with 0 has low score on all the 3 parameters. where as overallscore of 5 has best of all parameters. Here we can divide people into 3 groups.***\n",
        " 1.  low level priority (0-1)\n",
        " 2.  mid level priority (2-3)\n",
        " 3.  high level priority.(4-5)"
      ]
    },
    {
      "cell_type": "code",
      "metadata": {
        "colab": {
          "base_uri": "https://localhost:8080/",
          "height": 419
        },
        "id": "CVQEubNVpMV1",
        "outputId": "48377a5d-ba94-4924-8a78-7344104eba8d"
      },
      "source": [
        "df3"
      ],
      "execution_count": 137,
      "outputs": [
        {
          "output_type": "execute_result",
          "data": {
            "text/html": [
              "<div>\n",
              "<style scoped>\n",
              "    .dataframe tbody tr th:only-of-type {\n",
              "        vertical-align: middle;\n",
              "    }\n",
              "\n",
              "    .dataframe tbody tr th {\n",
              "        vertical-align: top;\n",
              "    }\n",
              "\n",
              "    .dataframe thead th {\n",
              "        text-align: right;\n",
              "    }\n",
              "</style>\n",
              "<table border=\"1\" class=\"dataframe\">\n",
              "  <thead>\n",
              "    <tr style=\"text-align: right;\">\n",
              "      <th></th>\n",
              "      <th>CustomerID</th>\n",
              "      <th>Recency</th>\n",
              "      <th>RecencyCluster</th>\n",
              "      <th>Frequency</th>\n",
              "      <th>FrequencyCluster</th>\n",
              "      <th>revenue</th>\n",
              "      <th>RevenueCluster</th>\n",
              "      <th>OverallScore</th>\n",
              "    </tr>\n",
              "  </thead>\n",
              "  <tbody>\n",
              "    <tr>\n",
              "      <th>0</th>\n",
              "      <td>17850.0</td>\n",
              "      <td>301</td>\n",
              "      <td>0</td>\n",
              "      <td>312</td>\n",
              "      <td>1</td>\n",
              "      <td>5288.63</td>\n",
              "      <td>0</td>\n",
              "      <td>1</td>\n",
              "    </tr>\n",
              "    <tr>\n",
              "      <th>1</th>\n",
              "      <td>14688.0</td>\n",
              "      <td>7</td>\n",
              "      <td>2</td>\n",
              "      <td>359</td>\n",
              "      <td>1</td>\n",
              "      <td>5107.38</td>\n",
              "      <td>0</td>\n",
              "      <td>3</td>\n",
              "    </tr>\n",
              "    <tr>\n",
              "      <th>2</th>\n",
              "      <td>14527.0</td>\n",
              "      <td>2</td>\n",
              "      <td>2</td>\n",
              "      <td>1011</td>\n",
              "      <td>1</td>\n",
              "      <td>7711.38</td>\n",
              "      <td>0</td>\n",
              "      <td>3</td>\n",
              "    </tr>\n",
              "    <tr>\n",
              "      <th>3</th>\n",
              "      <td>13408.0</td>\n",
              "      <td>1</td>\n",
              "      <td>2</td>\n",
              "      <td>501</td>\n",
              "      <td>1</td>\n",
              "      <td>27487.41</td>\n",
              "      <td>0</td>\n",
              "      <td>3</td>\n",
              "    </tr>\n",
              "    <tr>\n",
              "      <th>4</th>\n",
              "      <td>13767.0</td>\n",
              "      <td>1</td>\n",
              "      <td>2</td>\n",
              "      <td>399</td>\n",
              "      <td>1</td>\n",
              "      <td>16945.71</td>\n",
              "      <td>0</td>\n",
              "      <td>3</td>\n",
              "    </tr>\n",
              "    <tr>\n",
              "      <th>...</th>\n",
              "      <td>...</td>\n",
              "      <td>...</td>\n",
              "      <td>...</td>\n",
              "      <td>...</td>\n",
              "      <td>...</td>\n",
              "      <td>...</td>\n",
              "      <td>...</td>\n",
              "      <td>...</td>\n",
              "    </tr>\n",
              "    <tr>\n",
              "      <th>4359</th>\n",
              "      <td>17841.0</td>\n",
              "      <td>1</td>\n",
              "      <td>2</td>\n",
              "      <td>7983</td>\n",
              "      <td>2</td>\n",
              "      <td>40340.78</td>\n",
              "      <td>1</td>\n",
              "      <td>5</td>\n",
              "    </tr>\n",
              "    <tr>\n",
              "      <th>4360</th>\n",
              "      <td>14096.0</td>\n",
              "      <td>3</td>\n",
              "      <td>2</td>\n",
              "      <td>5128</td>\n",
              "      <td>2</td>\n",
              "      <td>57120.91</td>\n",
              "      <td>1</td>\n",
              "      <td>5</td>\n",
              "    </tr>\n",
              "    <tr>\n",
              "      <th>4361</th>\n",
              "      <td>17450.0</td>\n",
              "      <td>7</td>\n",
              "      <td>2</td>\n",
              "      <td>351</td>\n",
              "      <td>1</td>\n",
              "      <td>187482.17</td>\n",
              "      <td>2</td>\n",
              "      <td>5</td>\n",
              "    </tr>\n",
              "    <tr>\n",
              "      <th>4362</th>\n",
              "      <td>18102.0</td>\n",
              "      <td>0</td>\n",
              "      <td>2</td>\n",
              "      <td>433</td>\n",
              "      <td>1</td>\n",
              "      <td>256438.49</td>\n",
              "      <td>2</td>\n",
              "      <td>5</td>\n",
              "    </tr>\n",
              "    <tr>\n",
              "      <th>4363</th>\n",
              "      <td>14646.0</td>\n",
              "      <td>1</td>\n",
              "      <td>2</td>\n",
              "      <td>2085</td>\n",
              "      <td>1</td>\n",
              "      <td>279489.02</td>\n",
              "      <td>2</td>\n",
              "      <td>5</td>\n",
              "    </tr>\n",
              "  </tbody>\n",
              "</table>\n",
              "<p>4364 rows × 8 columns</p>\n",
              "</div>"
            ],
            "text/plain": [
              "      CustomerID  Recency  ...  RevenueCluster  OverallScore\n",
              "0        17850.0      301  ...               0             1\n",
              "1        14688.0        7  ...               0             3\n",
              "2        14527.0        2  ...               0             3\n",
              "3        13408.0        1  ...               0             3\n",
              "4        13767.0        1  ...               0             3\n",
              "...          ...      ...  ...             ...           ...\n",
              "4359     17841.0        1  ...               1             5\n",
              "4360     14096.0        3  ...               1             5\n",
              "4361     17450.0        7  ...               2             5\n",
              "4362     18102.0        0  ...               2             5\n",
              "4363     14646.0        1  ...               2             5\n",
              "\n",
              "[4364 rows x 8 columns]"
            ]
          },
          "metadata": {},
          "execution_count": 137
        }
      ]
    },
    {
      "cell_type": "code",
      "metadata": {
        "colab": {
          "base_uri": "https://localhost:8080/",
          "height": 419
        },
        "id": "DKUsJ9dGpAdm",
        "outputId": "2696cbad-101d-4ba5-edb2-949fa5783192"
      },
      "source": [
        "## segmenting users on overall score\n",
        "df3['segment'] = ['low' if 0==x or x==1 else 'mid' if 2==x or x==3 else 'high' for x in df3['OverallScore']]\n",
        "df3"
      ],
      "execution_count": 138,
      "outputs": [
        {
          "output_type": "execute_result",
          "data": {
            "text/html": [
              "<div>\n",
              "<style scoped>\n",
              "    .dataframe tbody tr th:only-of-type {\n",
              "        vertical-align: middle;\n",
              "    }\n",
              "\n",
              "    .dataframe tbody tr th {\n",
              "        vertical-align: top;\n",
              "    }\n",
              "\n",
              "    .dataframe thead th {\n",
              "        text-align: right;\n",
              "    }\n",
              "</style>\n",
              "<table border=\"1\" class=\"dataframe\">\n",
              "  <thead>\n",
              "    <tr style=\"text-align: right;\">\n",
              "      <th></th>\n",
              "      <th>CustomerID</th>\n",
              "      <th>Recency</th>\n",
              "      <th>RecencyCluster</th>\n",
              "      <th>Frequency</th>\n",
              "      <th>FrequencyCluster</th>\n",
              "      <th>revenue</th>\n",
              "      <th>RevenueCluster</th>\n",
              "      <th>OverallScore</th>\n",
              "      <th>segment</th>\n",
              "    </tr>\n",
              "  </thead>\n",
              "  <tbody>\n",
              "    <tr>\n",
              "      <th>0</th>\n",
              "      <td>17850.0</td>\n",
              "      <td>301</td>\n",
              "      <td>0</td>\n",
              "      <td>312</td>\n",
              "      <td>1</td>\n",
              "      <td>5288.63</td>\n",
              "      <td>0</td>\n",
              "      <td>1</td>\n",
              "      <td>low</td>\n",
              "    </tr>\n",
              "    <tr>\n",
              "      <th>1</th>\n",
              "      <td>14688.0</td>\n",
              "      <td>7</td>\n",
              "      <td>2</td>\n",
              "      <td>359</td>\n",
              "      <td>1</td>\n",
              "      <td>5107.38</td>\n",
              "      <td>0</td>\n",
              "      <td>3</td>\n",
              "      <td>mid</td>\n",
              "    </tr>\n",
              "    <tr>\n",
              "      <th>2</th>\n",
              "      <td>14527.0</td>\n",
              "      <td>2</td>\n",
              "      <td>2</td>\n",
              "      <td>1011</td>\n",
              "      <td>1</td>\n",
              "      <td>7711.38</td>\n",
              "      <td>0</td>\n",
              "      <td>3</td>\n",
              "      <td>mid</td>\n",
              "    </tr>\n",
              "    <tr>\n",
              "      <th>3</th>\n",
              "      <td>13408.0</td>\n",
              "      <td>1</td>\n",
              "      <td>2</td>\n",
              "      <td>501</td>\n",
              "      <td>1</td>\n",
              "      <td>27487.41</td>\n",
              "      <td>0</td>\n",
              "      <td>3</td>\n",
              "      <td>mid</td>\n",
              "    </tr>\n",
              "    <tr>\n",
              "      <th>4</th>\n",
              "      <td>13767.0</td>\n",
              "      <td>1</td>\n",
              "      <td>2</td>\n",
              "      <td>399</td>\n",
              "      <td>1</td>\n",
              "      <td>16945.71</td>\n",
              "      <td>0</td>\n",
              "      <td>3</td>\n",
              "      <td>mid</td>\n",
              "    </tr>\n",
              "    <tr>\n",
              "      <th>...</th>\n",
              "      <td>...</td>\n",
              "      <td>...</td>\n",
              "      <td>...</td>\n",
              "      <td>...</td>\n",
              "      <td>...</td>\n",
              "      <td>...</td>\n",
              "      <td>...</td>\n",
              "      <td>...</td>\n",
              "      <td>...</td>\n",
              "    </tr>\n",
              "    <tr>\n",
              "      <th>4359</th>\n",
              "      <td>17841.0</td>\n",
              "      <td>1</td>\n",
              "      <td>2</td>\n",
              "      <td>7983</td>\n",
              "      <td>2</td>\n",
              "      <td>40340.78</td>\n",
              "      <td>1</td>\n",
              "      <td>5</td>\n",
              "      <td>high</td>\n",
              "    </tr>\n",
              "    <tr>\n",
              "      <th>4360</th>\n",
              "      <td>14096.0</td>\n",
              "      <td>3</td>\n",
              "      <td>2</td>\n",
              "      <td>5128</td>\n",
              "      <td>2</td>\n",
              "      <td>57120.91</td>\n",
              "      <td>1</td>\n",
              "      <td>5</td>\n",
              "      <td>high</td>\n",
              "    </tr>\n",
              "    <tr>\n",
              "      <th>4361</th>\n",
              "      <td>17450.0</td>\n",
              "      <td>7</td>\n",
              "      <td>2</td>\n",
              "      <td>351</td>\n",
              "      <td>1</td>\n",
              "      <td>187482.17</td>\n",
              "      <td>2</td>\n",
              "      <td>5</td>\n",
              "      <td>high</td>\n",
              "    </tr>\n",
              "    <tr>\n",
              "      <th>4362</th>\n",
              "      <td>18102.0</td>\n",
              "      <td>0</td>\n",
              "      <td>2</td>\n",
              "      <td>433</td>\n",
              "      <td>1</td>\n",
              "      <td>256438.49</td>\n",
              "      <td>2</td>\n",
              "      <td>5</td>\n",
              "      <td>high</td>\n",
              "    </tr>\n",
              "    <tr>\n",
              "      <th>4363</th>\n",
              "      <td>14646.0</td>\n",
              "      <td>1</td>\n",
              "      <td>2</td>\n",
              "      <td>2085</td>\n",
              "      <td>1</td>\n",
              "      <td>279489.02</td>\n",
              "      <td>2</td>\n",
              "      <td>5</td>\n",
              "      <td>high</td>\n",
              "    </tr>\n",
              "  </tbody>\n",
              "</table>\n",
              "<p>4364 rows × 9 columns</p>\n",
              "</div>"
            ],
            "text/plain": [
              "      CustomerID  Recency  RecencyCluster  ...  RevenueCluster  OverallScore  segment\n",
              "0        17850.0      301               0  ...               0             1      low\n",
              "1        14688.0        7               2  ...               0             3      mid\n",
              "2        14527.0        2               2  ...               0             3      mid\n",
              "3        13408.0        1               2  ...               0             3      mid\n",
              "4        13767.0        1               2  ...               0             3      mid\n",
              "...          ...      ...             ...  ...             ...           ...      ...\n",
              "4359     17841.0        1               2  ...               1             5     high\n",
              "4360     14096.0        3               2  ...               1             5     high\n",
              "4361     17450.0        7               2  ...               2             5     high\n",
              "4362     18102.0        0               2  ...               2             5     high\n",
              "4363     14646.0        1               2  ...               2             5     high\n",
              "\n",
              "[4364 rows x 9 columns]"
            ]
          },
          "metadata": {},
          "execution_count": 138
        }
      ]
    },
    {
      "cell_type": "markdown",
      "metadata": {
        "id": "qUR4_XjyvG00"
      },
      "source": [
        "**we have completed customer segmentation. Now its time to build ML model that will segment customers based on Recency,\tFrequency,\trevenue**"
      ]
    },
    {
      "cell_type": "code",
      "metadata": {
        "colab": {
          "base_uri": "https://localhost:8080/",
          "height": 419
        },
        "id": "Ifzn8PN7rDwn",
        "outputId": "339de5b2-13a2-4090-a7e4-020996a99604"
      },
      "source": [
        "#let us create a new dataframe for model training. the dataframe will contain only recency,frequency,revenue and segemnt(label encoded to '0','1','2')\n",
        "df4=df3[['Recency','Frequency','revenue','segment']]\n",
        "df4"
      ],
      "execution_count": 139,
      "outputs": [
        {
          "output_type": "execute_result",
          "data": {
            "text/html": [
              "<div>\n",
              "<style scoped>\n",
              "    .dataframe tbody tr th:only-of-type {\n",
              "        vertical-align: middle;\n",
              "    }\n",
              "\n",
              "    .dataframe tbody tr th {\n",
              "        vertical-align: top;\n",
              "    }\n",
              "\n",
              "    .dataframe thead th {\n",
              "        text-align: right;\n",
              "    }\n",
              "</style>\n",
              "<table border=\"1\" class=\"dataframe\">\n",
              "  <thead>\n",
              "    <tr style=\"text-align: right;\">\n",
              "      <th></th>\n",
              "      <th>Recency</th>\n",
              "      <th>Frequency</th>\n",
              "      <th>revenue</th>\n",
              "      <th>segment</th>\n",
              "    </tr>\n",
              "  </thead>\n",
              "  <tbody>\n",
              "    <tr>\n",
              "      <th>0</th>\n",
              "      <td>301</td>\n",
              "      <td>312</td>\n",
              "      <td>5288.63</td>\n",
              "      <td>low</td>\n",
              "    </tr>\n",
              "    <tr>\n",
              "      <th>1</th>\n",
              "      <td>7</td>\n",
              "      <td>359</td>\n",
              "      <td>5107.38</td>\n",
              "      <td>mid</td>\n",
              "    </tr>\n",
              "    <tr>\n",
              "      <th>2</th>\n",
              "      <td>2</td>\n",
              "      <td>1011</td>\n",
              "      <td>7711.38</td>\n",
              "      <td>mid</td>\n",
              "    </tr>\n",
              "    <tr>\n",
              "      <th>3</th>\n",
              "      <td>1</td>\n",
              "      <td>501</td>\n",
              "      <td>27487.41</td>\n",
              "      <td>mid</td>\n",
              "    </tr>\n",
              "    <tr>\n",
              "      <th>4</th>\n",
              "      <td>1</td>\n",
              "      <td>399</td>\n",
              "      <td>16945.71</td>\n",
              "      <td>mid</td>\n",
              "    </tr>\n",
              "    <tr>\n",
              "      <th>...</th>\n",
              "      <td>...</td>\n",
              "      <td>...</td>\n",
              "      <td>...</td>\n",
              "      <td>...</td>\n",
              "    </tr>\n",
              "    <tr>\n",
              "      <th>4359</th>\n",
              "      <td>1</td>\n",
              "      <td>7983</td>\n",
              "      <td>40340.78</td>\n",
              "      <td>high</td>\n",
              "    </tr>\n",
              "    <tr>\n",
              "      <th>4360</th>\n",
              "      <td>3</td>\n",
              "      <td>5128</td>\n",
              "      <td>57120.91</td>\n",
              "      <td>high</td>\n",
              "    </tr>\n",
              "    <tr>\n",
              "      <th>4361</th>\n",
              "      <td>7</td>\n",
              "      <td>351</td>\n",
              "      <td>187482.17</td>\n",
              "      <td>high</td>\n",
              "    </tr>\n",
              "    <tr>\n",
              "      <th>4362</th>\n",
              "      <td>0</td>\n",
              "      <td>433</td>\n",
              "      <td>256438.49</td>\n",
              "      <td>high</td>\n",
              "    </tr>\n",
              "    <tr>\n",
              "      <th>4363</th>\n",
              "      <td>1</td>\n",
              "      <td>2085</td>\n",
              "      <td>279489.02</td>\n",
              "      <td>high</td>\n",
              "    </tr>\n",
              "  </tbody>\n",
              "</table>\n",
              "<p>4364 rows × 4 columns</p>\n",
              "</div>"
            ],
            "text/plain": [
              "      Recency  Frequency    revenue segment\n",
              "0         301        312    5288.63     low\n",
              "1           7        359    5107.38     mid\n",
              "2           2       1011    7711.38     mid\n",
              "3           1        501   27487.41     mid\n",
              "4           1        399   16945.71     mid\n",
              "...       ...        ...        ...     ...\n",
              "4359        1       7983   40340.78    high\n",
              "4360        3       5128   57120.91    high\n",
              "4361        7        351  187482.17    high\n",
              "4362        0        433  256438.49    high\n",
              "4363        1       2085  279489.02    high\n",
              "\n",
              "[4364 rows x 4 columns]"
            ]
          },
          "metadata": {},
          "execution_count": 139
        }
      ]
    },
    {
      "cell_type": "code",
      "metadata": {
        "colab": {
          "base_uri": "https://localhost:8080/",
          "height": 555
        },
        "id": "iNmEa6Beu0sh",
        "outputId": "13862f43-e8d4-4aa5-a501-9c3446315570"
      },
      "source": [
        "#label encoding\n",
        "label= {'low': 0,'mid': 1,'high':'2'}\n",
        "df4.segment = [label[item] for item in df4.segment]\n",
        "df4"
      ],
      "execution_count": 140,
      "outputs": [
        {
          "output_type": "stream",
          "name": "stderr",
          "text": [
            "/usr/local/lib/python3.7/dist-packages/pandas/core/generic.py:5170: SettingWithCopyWarning:\n",
            "\n",
            "\n",
            "A value is trying to be set on a copy of a slice from a DataFrame.\n",
            "Try using .loc[row_indexer,col_indexer] = value instead\n",
            "\n",
            "See the caveats in the documentation: https://pandas.pydata.org/pandas-docs/stable/user_guide/indexing.html#returning-a-view-versus-a-copy\n",
            "\n"
          ]
        },
        {
          "output_type": "execute_result",
          "data": {
            "text/html": [
              "<div>\n",
              "<style scoped>\n",
              "    .dataframe tbody tr th:only-of-type {\n",
              "        vertical-align: middle;\n",
              "    }\n",
              "\n",
              "    .dataframe tbody tr th {\n",
              "        vertical-align: top;\n",
              "    }\n",
              "\n",
              "    .dataframe thead th {\n",
              "        text-align: right;\n",
              "    }\n",
              "</style>\n",
              "<table border=\"1\" class=\"dataframe\">\n",
              "  <thead>\n",
              "    <tr style=\"text-align: right;\">\n",
              "      <th></th>\n",
              "      <th>Recency</th>\n",
              "      <th>Frequency</th>\n",
              "      <th>revenue</th>\n",
              "      <th>segment</th>\n",
              "    </tr>\n",
              "  </thead>\n",
              "  <tbody>\n",
              "    <tr>\n",
              "      <th>0</th>\n",
              "      <td>301</td>\n",
              "      <td>312</td>\n",
              "      <td>5288.63</td>\n",
              "      <td>0</td>\n",
              "    </tr>\n",
              "    <tr>\n",
              "      <th>1</th>\n",
              "      <td>7</td>\n",
              "      <td>359</td>\n",
              "      <td>5107.38</td>\n",
              "      <td>1</td>\n",
              "    </tr>\n",
              "    <tr>\n",
              "      <th>2</th>\n",
              "      <td>2</td>\n",
              "      <td>1011</td>\n",
              "      <td>7711.38</td>\n",
              "      <td>1</td>\n",
              "    </tr>\n",
              "    <tr>\n",
              "      <th>3</th>\n",
              "      <td>1</td>\n",
              "      <td>501</td>\n",
              "      <td>27487.41</td>\n",
              "      <td>1</td>\n",
              "    </tr>\n",
              "    <tr>\n",
              "      <th>4</th>\n",
              "      <td>1</td>\n",
              "      <td>399</td>\n",
              "      <td>16945.71</td>\n",
              "      <td>1</td>\n",
              "    </tr>\n",
              "    <tr>\n",
              "      <th>...</th>\n",
              "      <td>...</td>\n",
              "      <td>...</td>\n",
              "      <td>...</td>\n",
              "      <td>...</td>\n",
              "    </tr>\n",
              "    <tr>\n",
              "      <th>4359</th>\n",
              "      <td>1</td>\n",
              "      <td>7983</td>\n",
              "      <td>40340.78</td>\n",
              "      <td>2</td>\n",
              "    </tr>\n",
              "    <tr>\n",
              "      <th>4360</th>\n",
              "      <td>3</td>\n",
              "      <td>5128</td>\n",
              "      <td>57120.91</td>\n",
              "      <td>2</td>\n",
              "    </tr>\n",
              "    <tr>\n",
              "      <th>4361</th>\n",
              "      <td>7</td>\n",
              "      <td>351</td>\n",
              "      <td>187482.17</td>\n",
              "      <td>2</td>\n",
              "    </tr>\n",
              "    <tr>\n",
              "      <th>4362</th>\n",
              "      <td>0</td>\n",
              "      <td>433</td>\n",
              "      <td>256438.49</td>\n",
              "      <td>2</td>\n",
              "    </tr>\n",
              "    <tr>\n",
              "      <th>4363</th>\n",
              "      <td>1</td>\n",
              "      <td>2085</td>\n",
              "      <td>279489.02</td>\n",
              "      <td>2</td>\n",
              "    </tr>\n",
              "  </tbody>\n",
              "</table>\n",
              "<p>4364 rows × 4 columns</p>\n",
              "</div>"
            ],
            "text/plain": [
              "      Recency  Frequency    revenue segment\n",
              "0         301        312    5288.63       0\n",
              "1           7        359    5107.38       1\n",
              "2           2       1011    7711.38       1\n",
              "3           1        501   27487.41       1\n",
              "4           1        399   16945.71       1\n",
              "...       ...        ...        ...     ...\n",
              "4359        1       7983   40340.78       2\n",
              "4360        3       5128   57120.91       2\n",
              "4361        7        351  187482.17       2\n",
              "4362        0        433  256438.49       2\n",
              "4363        1       2085  279489.02       2\n",
              "\n",
              "[4364 rows x 4 columns]"
            ]
          },
          "metadata": {},
          "execution_count": 140
        }
      ]
    },
    {
      "cell_type": "code",
      "metadata": {
        "colab": {
          "base_uri": "https://localhost:8080/"
        },
        "id": "C7mdXmFLProJ",
        "outputId": "2d460c94-04cd-4761-a1db-e774607c5de8"
      },
      "source": [
        "df4['segment']=df4['segment'].astype(str).astype(int)"
      ],
      "execution_count": 141,
      "outputs": [
        {
          "output_type": "stream",
          "name": "stderr",
          "text": [
            "/usr/local/lib/python3.7/dist-packages/ipykernel_launcher.py:1: SettingWithCopyWarning:\n",
            "\n",
            "\n",
            "A value is trying to be set on a copy of a slice from a DataFrame.\n",
            "Try using .loc[row_indexer,col_indexer] = value instead\n",
            "\n",
            "See the caveats in the documentation: https://pandas.pydata.org/pandas-docs/stable/user_guide/indexing.html#returning-a-view-versus-a-copy\n",
            "\n"
          ]
        }
      ]
    },
    {
      "cell_type": "code",
      "metadata": {
        "id": "Qyaphvg5Push"
      },
      "source": [
        "# creating x and y\n",
        "x = df4[['Recency','Frequency','revenue']]\n",
        "y = df4['segment']"
      ],
      "execution_count": 142,
      "outputs": []
    },
    {
      "cell_type": "code",
      "metadata": {
        "colab": {
          "base_uri": "https://localhost:8080/"
        },
        "id": "ftS5jCx3W4TM",
        "outputId": "b15d4093-33ce-4800-a943-a3063d580c85"
      },
      "source": [
        "y"
      ],
      "execution_count": 143,
      "outputs": [
        {
          "output_type": "execute_result",
          "data": {
            "text/plain": [
              "0       0\n",
              "1       1\n",
              "2       1\n",
              "3       1\n",
              "4       1\n",
              "       ..\n",
              "4359    2\n",
              "4360    2\n",
              "4361    2\n",
              "4362    2\n",
              "4363    2\n",
              "Name: segment, Length: 4364, dtype: int64"
            ]
          },
          "metadata": {},
          "execution_count": 143
        }
      ]
    },
    {
      "cell_type": "code",
      "metadata": {
        "id": "2T2rk8TkQoKB"
      },
      "source": [
        "#creating train and test split\n",
        "from sklearn.model_selection import train_test_split\n",
        "x_train, x_test, y_train, y_test = train_test_split(x, y, test_size = 0.25, random_state = 0)"
      ],
      "execution_count": 144,
      "outputs": []
    },
    {
      "cell_type": "markdown",
      "metadata": {
        "id": "U9k4UDeKcx6w"
      },
      "source": [
        "**we will be using light GBM algorithm for multiclass classification**         \n",
        "**we will chech the model for accuracy and create confusion matrix to see how many label it got correct**"
      ]
    },
    {
      "cell_type": "code",
      "metadata": {
        "colab": {
          "base_uri": "https://localhost:8080/"
        },
        "id": "G0om6BOCQpYK",
        "outputId": "8b49282f-bbe5-4876-a3aa-bab910a40e80"
      },
      "source": [
        "#defining and training light gbm\n",
        "import lightgbm as lgb\n",
        "clf = lgb.LGBMClassifier()\n",
        "clf.fit(x_train, y_train)"
      ],
      "execution_count": 145,
      "outputs": [
        {
          "output_type": "execute_result",
          "data": {
            "text/plain": [
              "LGBMClassifier(boosting_type='gbdt', class_weight=None, colsample_bytree=1.0,\n",
              "               importance_type='split', learning_rate=0.1, max_depth=-1,\n",
              "               min_child_samples=20, min_child_weight=0.001, min_split_gain=0.0,\n",
              "               n_estimators=100, n_jobs=-1, num_leaves=31, objective=None,\n",
              "               random_state=None, reg_alpha=0.0, reg_lambda=0.0, silent=True,\n",
              "               subsample=1.0, subsample_for_bin=200000, subsample_freq=0)"
            ]
          },
          "metadata": {},
          "execution_count": 145
        }
      ]
    },
    {
      "cell_type": "code",
      "metadata": {
        "id": "8gMu2Se-SeOu"
      },
      "source": [
        "#predicting \n",
        "y_pred=clf.predict(x_test)"
      ],
      "execution_count": 146,
      "outputs": []
    },
    {
      "cell_type": "code",
      "metadata": {
        "colab": {
          "base_uri": "https://localhost:8080/"
        },
        "id": "1rJj06mfSjY5",
        "outputId": "dcb65209-5005-4277-8a79-f24b57b66615"
      },
      "source": [
        "#calculating accuracy score\n",
        "from sklearn.metrics import accuracy_score\n",
        "accuracy=accuracy_score(y_test, y_pred)\n",
        "print('LightGBM Model accuracy score: {0:0.4f}'.format(accuracy_score(y_test, y_pred)))"
      ],
      "execution_count": 147,
      "outputs": [
        {
          "output_type": "stream",
          "name": "stdout",
          "text": [
            "LightGBM Model accuracy score: 0.9945\n"
          ]
        }
      ]
    },
    {
      "cell_type": "code",
      "metadata": {
        "id": "QNHxX08YXNxI"
      },
      "source": [
        "#creating confusion matrix\n",
        "from sklearn.metrics import confusion_matrix\n",
        "cm = confusion_matrix(y_test, y_pred)"
      ],
      "execution_count": 148,
      "outputs": []
    },
    {
      "cell_type": "code",
      "metadata": {
        "colab": {
          "base_uri": "https://localhost:8080/"
        },
        "id": "dW8mZYIlbEOP",
        "outputId": "3170f40a-eaf0-4bc3-9895-92b7e1e5a7ca"
      },
      "source": [
        "cm"
      ],
      "execution_count": 149,
      "outputs": [
        {
          "output_type": "execute_result",
          "data": {
            "text/plain": [
              "array([[372,   2,   0],\n",
              "       [  1, 711,   1],\n",
              "       [  0,   2,   2]])"
            ]
          },
          "metadata": {},
          "execution_count": 149
        }
      ]
    },
    {
      "cell_type": "code",
      "metadata": {
        "id": "8irUVOafX_Vk"
      },
      "source": [
        "cm_df = pd.DataFrame(cm,\n",
        "                     index = ['0','1','2'], \n",
        "                     columns = ['0','1','2'])"
      ],
      "execution_count": 150,
      "outputs": []
    },
    {
      "cell_type": "code",
      "metadata": {
        "colab": {
          "base_uri": "https://localhost:8080/",
          "height": 458
        },
        "id": "gXAAUstrYPYk",
        "outputId": "1d125df6-5a4c-4f5c-98ce-bc11121fccc0"
      },
      "source": [
        "#Plotting the confusion matrix\n",
        "plt.figure(figsize=(7,7))\n",
        "sns.heatmap(cm_df, annot=True)\n",
        "plt.title('Confusion Matrix')\n",
        "plt.ylabel('Actal Values')\n",
        "plt.xlabel('Predicted Values')\n",
        "plt.show()\n"
      ],
      "execution_count": 151,
      "outputs": [
        {
          "output_type": "display_data",
          "data": {
            "image/png": "[encoded data removed]",
            "text/plain": [
              "<Figure size 504x504 with 2 Axes>"
            ]
          },
          "metadata": {
            "needs_background": "light"
          }
        }
      ]
    },
    {
      "cell_type": "markdown",
      "metadata": {
        "id": "mFwLiyh_ZJwN"
      },
      "source": [
        "**conclusion:-**\n",
        "\n",
        "1.   **no of test :1090**\n",
        "2.   **the model has achieved a accuracy of 99.82 %**\n",
        "3.   **from confusion matrix we can see that model has done well in predicting correct label.**                                 \n",
        "**correct label (376+709)=1085**                               \n",
        "**wrong label=(6)**\n",
        "\n"
      ]
    },
    {
      "cell_type": "code",
      "metadata": {
        "id": "5X6-xACxdlO3"
      },
      "source": [
        ""
      ],
      "execution_count": null,
      "outputs": []
    }
  ]
}